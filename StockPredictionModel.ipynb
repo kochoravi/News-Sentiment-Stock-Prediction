{
 "cells": [
  {
   "cell_type": "markdown",
   "metadata": {},
   "source": [
    "# Stock Market Prediction Using Financial News and Historical Data\n",
    "\n",
    "Using sentiment analysis and recurrent neural network models (LSTM)\n",
    "we combine ”public sentiment” and historical market data to find a predictor for ”market movment”. We use financial news datasets from Reuters to predict public mood given by the sentiment of the news headline. In addition, we use Dow Jones Industrial average closing price to predict next day movement. The model trained with time series features for the period '2006-10-20' to '2008-01-17' obtain ~%95 accuracy on the test set from '2008-01-17' to '2008-02-28 using the window size of 32 days.\n",
    "\n"
   ]
  },
  {
   "cell_type": "code",
   "execution_count": 2,
   "metadata": {},
   "outputs": [],
   "source": [
    "#importing pkgs and libs:\n",
    "import os\n",
    "import sys\n",
    "import string\n",
    "from nltk.corpus import stopwords\n",
    "import tensorflow as tf\n",
    "from tensorflow import keras\n",
    "from nltk.tokenize import word_tokenize\n",
    "from sklearn.feature_extraction.text import TfidfVectorizer, CountVectorizer\n",
    "from sklearn.decomposition import NMF, LatentDirichletAllocation\n",
    "from nltk.stem.porter import PorterStemmer\n",
    "from sklearn.feature_extraction.text import CountVectorizer\n",
    "from sklearn.decomposition import LatentDirichletAllocation\n",
    "from sklearn.preprocessing import MinMaxScaler\n",
    "import pandas as pd\n",
    "import numpy as np\n",
    "import matplotlib.pyplot as plt\n",
    "import seaborn as sns \n",
    "import yfinance as yf \n",
    "%matplotlib inline\n"
   ]
  },
  {
   "cell_type": "markdown",
   "metadata": {},
   "source": [
    "## Financial news-data prepration"
   ]
  },
  {
   "cell_type": "code",
   "execution_count": 5,
   "metadata": {},
   "outputs": [],
   "source": [
    "import requests\n",
    "\n",
    "DIR_NAME = 'ReutersNews106521'\n",
    "def get_data(DIR_NAME):\n",
    "    '''\n",
    "    Get Reuters Finacial News Data Set \n",
    "    @ https://github.com/duynht/financial-news-dataset\n",
    "    '''\n",
    "    \n",
    "    if not os.path.exists(DIR_NAME):\n",
    "        os.mkdir(DIR_NAME)\n",
    "    url = \"https://github.com/duynht/financial-news-dataset/financial-news-dataset-master.zip\"\n",
    "    response = requests.get(url)\n",
    "    name = os.path.basename(url)\n",
    "    with open(os.path.join(DIR_NAME, name), 'w') as f:\n",
    "        f.write(response.content)\n"
   ]
  },
  {
   "cell_type": "code",
   "execution_count": 3,
   "metadata": {},
   "outputs": [],
   "source": [
    "#Load and parse Reuters Finacial News Data Set @ https://github.com/duynht/financial-news-dataset\n",
    "DIR_NAME = 'ReutersNews106521'\n",
    "\n",
    "def parse_data(DIR_NAME = 'ReutersNews106521', dir_limit = 500):\n",
    "    \n",
    "    '''\n",
    "    parsing the news dataset folders and \n",
    "    extract news dates, titles and contents\n",
    "    use small dir_limit arg to experiment first\n",
    "    otherwise use full data set\n",
    "    '''\n",
    "    \n",
    "    c = 0\n",
    "    new_text = []\n",
    "    titles = []\n",
    "    dates = []\n",
    "    contents = []\n",
    "\n",
    "    for names in sorted(os.listdir(DIR_NAME)):\n",
    "        c+=1\n",
    "        path = os.path.join(DIR_NAME, names)\n",
    "        if c < dir_limit:\n",
    "            if os.path.isdir(path):\n",
    "                for fname in sorted(os.listdir(path)):\n",
    "                    fpath = os.path.join(path, fname)\n",
    "                    if(not fpath.endswith('.DS_Store')):\n",
    "                        with open(fpath, 'rb') as f:\n",
    "                            t = f.read().decode('utf-8',errors='ignore')\n",
    "                            new_text = t.split('\\n-- ')\n",
    "                            title, date, content = new_text[0].strip('--'), new_text[2], new_text[3] \n",
    "                            titles.append(title)\n",
    "                            dates.append(date)\n",
    "                            contents.append(content)\n",
    "    return titles, dates, contents\n",
    "\n",
    "#titles, dates, contents =  parse_date('ReutersNews106521', sys.maxsize)\n",
    "titles, dates, contents =  parse_data('ReutersNews106521')"
   ]
  },
  {
   "cell_type": "code",
   "execution_count": 4,
   "metadata": {},
   "outputs": [],
   "source": [
    "def clean_text(text, remove_common_words = True, stemming = True):\n",
    "    # split into words\n",
    "    tokens = word_tokenize(text)\n",
    "    # convert to lower case\n",
    "    tokens = [w.lower() for w in tokens]\n",
    "    # remove punctuation from each word\n",
    "    table = str.maketrans('', '', string.punctuation)\n",
    "    stripped = [w.translate(table) for w in tokens]\n",
    "    # # remove remaining tokens that are not alphabetic\n",
    "    words = [word for word in stripped if word.isalpha()]\n",
    "    # # filter out stop words\n",
    "    from nltk.corpus import stopwords\n",
    "    #stop_words = set(stopwords.words('english'))\n",
    "    stop_words = set(stopwords.words('english')).union(\n",
    "                  {\"things\", \"that's\", \"something\", \"take\", \"don't\", \"may\", \"want\", \"you're\", \n",
    "                   \"set\", \"might\", \"says\", \"including\", \"lot\", \"much\", \"said\", \"know\", \n",
    "                   \"good\", \"step\", \"often\", \"going\", \"thing\", \"things\", \"think\",\n",
    "                  \"back\", \"actually\", \"better\", \"look\", \"find\", \"right\", \"example\", \n",
    "                   \"verb\", \"verbs\"})\n",
    "    words = [w for w in words if not w in stop_words]\n",
    "    p_stemmer = PorterStemmer()\n",
    "    stemmed_tokens = [p_stemmer.stem(i) for i in words] if stemming else words\n",
    "    fin_words = {\"percent\", \"companies\", \"company\", \"stock\", \"sales\", \"million\", \"billion\",\n",
    "                   \"share\", \"new\", \"market\", \"close\", \"earn\", \"report\", \"analyst\", \"expect\", \"unit\",\n",
    "                   \"quarter\", \"year\", \"cents\", \"week\", \"profit\", \"rate\", \"price\", \"rose\", \"cost\", \"revenu\", \"offer\", \"post\" }\n",
    "    words = [w for w in stemmed_tokens if not w in fin_words]\n",
    "    words = ' '.join(words)\n",
    "    return words"
   ]
  },
  {
   "cell_type": "code",
   "execution_count": 8,
   "metadata": {},
   "outputs": [],
   "source": [
    "clean_alltext = [clean_text(title) + ' ' + clean_text(content) for title, content in zip(titles, contents)]\n",
    "clean_titles = [clean_text(title) for title in titles]"
   ]
  },
  {
   "cell_type": "code",
   "execution_count": 71,
   "metadata": {},
   "outputs": [
    {
     "data": {
      "text/plain": [
       "['Fri Feb 29, 2008 5:15pm EST',\n",
       " 'Fri Feb 29, 2008 11:20am EST',\n",
       " 'Fri Feb 29, 2008 3:32pm EST',\n",
       " 'Fri Feb 29, 2008 11:00am EST',\n",
       " 'Fri Feb 29, 2008 11:24am EST',\n",
       " 'Fri Feb 29, 2008 10:13am EST',\n",
       " 'Fri Feb 29, 2008 10:13am EST',\n",
       " 'Fri Feb 29, 2008 3:37pm EST',\n",
       " 'Fri Feb 29, 2008 6:31am EST']"
      ]
     },
     "execution_count": 71,
     "metadata": {},
     "output_type": "execute_result"
    }
   ],
   "source": [
    "dates[-10:-1]"
   ]
  },
  {
   "cell_type": "markdown",
   "metadata": {},
   "source": [
    "## Topic Modeling\n",
    "\n",
    "We analyze the topics in the news contents and titles using\n",
    "Latent Dirichlet Allocation (LDA). First we preprocess the data using Tf-idf bag of words model to find the term-documnet frequency matrix. Then we apply LDA to the term-document matrix \n",
    "The assumption is that each document mix with various topics and every topic mix with various words.\n"
   ]
  },
  {
   "cell_type": "code",
   "execution_count": 9,
   "metadata": {},
   "outputs": [],
   "source": [
    "def tfidf_vectorizer(prep_docs, n_features = 200, param_min_df = 2, param_max_df = 0.95):\n",
    "\n",
    "    print(\"Extracting tf-idf features ...\")\n",
    "    tfidf = TfidfVectorizer(max_df = param_max_df, min_df = param_min_df,\n",
    "                                       max_features=n_features,\n",
    "                                       stop_words='english')\n",
    "    # tfidf_vec_sparse = tfidf.fit_transform(docs)\n",
    "    tfidf_vec_sparse = tfidf.fit_transform(prep_docs)\n",
    "    feature_names = tfidf.get_feature_names()\n",
    "\n",
    "    return tfidf_vec_sparse, feature_names"
   ]
  },
  {
   "cell_type": "code",
   "execution_count": 10,
   "metadata": {},
   "outputs": [
    {
     "name": "stdout",
     "output_type": "stream",
     "text": [
      "Extracting tf-idf features ...\n"
     ]
    }
   ],
   "source": [
    "tfidf_vec_sparse, feature_names = tfidf_vectorizer(clean_alltext, n_features = None, param_min_df = 2, param_max_df = 0.95)\n"
   ]
  },
  {
   "cell_type": "code",
   "execution_count": 11,
   "metadata": {},
   "outputs": [],
   "source": [
    "n_topics = 10\n",
    "lda = LatentDirichletAllocation(n_components=n_topics, max_iter=10,\n",
    "                                learning_method='online',\n",
    "                                learning_offset=50.,\n",
    "\n",
    "                                random_state=0)\n",
    "lda_model = lda.fit(tfidf_vec_sparse)\n",
    "embding = lda_model.transform(tfidf_vec_sparse)\n"
   ]
  },
  {
   "cell_type": "code",
   "execution_count": 12,
   "metadata": {},
   "outputs": [],
   "source": [
    "def get_top_words(model, feature_names, n_top_words):\n",
    "    topic_words = []\n",
    "    for topic in model.components_:\n",
    "        top_id = topic.argsort()[:-n_top_words - 1:-1] \n",
    "        topic_words.append([feature_names[i] for i in top_id])\n",
    "    return topic_words\n",
    "\n",
    "n_top_words = 10\n",
    "topic_words = get_top_words(lda_model, feature_names, n_top_words)"
   ]
  },
  {
   "cell_type": "code",
   "execution_count": 13,
   "metadata": {},
   "outputs": [],
   "source": [
    "def print_top_words(model, feature_names, n_top_words):\n",
    "    for topic_idx, topic in enumerate(model.components_):\n",
    "        message = \"Topic #%d: \" % topic_idx\n",
    "        message += \" \".join([feature_names[i]\n",
    "                             for i in topic.argsort()[:-n_top_words - 1:-1]])\n",
    "        print(message)\n",
    "    print()"
   ]
  },
  {
   "cell_type": "code",
   "execution_count": 10,
   "metadata": {},
   "outputs": [
    {
     "name": "stdout",
     "output_type": "stream",
     "text": [
      "Topic #0: sysco synagi univar chemcentr flumist scor converium rnai alnylam syyn\n",
      "Topic #1: mytravel ford dupont omnicom countrywid opec mtl karstadtquel fed fontenlanovoa\n",
      "Topic #2: colgat toothpast deg glycol diethylen arbesfeld prohealth goldcredit ajax middelhoff\n",
      "Topic #3: ahli roxford tamdeen ambien hrr ibq ulf asleep tsui aubbbh\n",
      "Topic #4: keyspan ksen ngl grid ferc kreinberg sorin comvers garaufi excomvers\n",
      "Topic #5: beckman biosit triad cigna inver coulter dade atmi undersubscrib lanza\n",
      "Topic #6: wrigley harman gum gamoran altoid harn audioequip gscp dentyn fructos\n",
      "Topic #7: olimpia holog pirelli cytyc mediobanca tronchetti pecimi titalia rossi novini\n",
      "Topic #8: stumpf kovacevich dirt wili salomon streetsmart fifthlargest wfcn gil minutia\n",
      "Topic #9: bank york deal trade busi corp home growth group forecast\n",
      "\n"
     ]
    }
   ],
   "source": [
    "# top words in the dominant topic\n",
    "print_top_words(lda_model, feature_names, 10)"
   ]
  },
  {
   "cell_type": "code",
   "execution_count": 14,
   "metadata": {},
   "outputs": [],
   "source": [
    "from sklearn.feature_extraction.text import CountVectorizer\n",
    "\n",
    "count_vec =  CountVectorizer()\n",
    "word_count_matrix = count_vec.fit_transform(clean_alltext)\n",
    "word_count_matrix.toarray().sum(axis = 0)\n",
    "df_word_count = pd.DataFrame({'words':count_vec.get_feature_names(), 'count': word_count_matrix.toarray().sum(axis = 0)})\n",
    "df_word_count.set_index('words', inplace= True)\n"
   ]
  },
  {
   "cell_type": "code",
   "execution_count": 17,
   "metadata": {},
   "outputs": [
    {
     "data": {
      "image/png": "[encoded data removed]",
      "text/plain": [
       "<Figure size 432x288 with 9 Axes>"
      ]
     },
     "metadata": {
      "needs_background": "light"
     },
     "output_type": "display_data"
    }
   ],
   "source": [
    "# distribution of words in 9 topics\n",
    "\n",
    "fig = plt.figure()\n",
    "for i in range(9):\n",
    "    fig.add_subplot(3, 3, i+1)\n",
    "    topic_counts_df = df_word_count.loc[topic_words[i]].sort_values(by = 'count', ascending = False)\n",
    "    sns.barplot(x = topic_counts_df.index, y = 'count', data = topic_counts_df)\n",
    "    plt.xlabel(None)\n",
    "    plt.ylabel(None)\n",
    "    plt.xticks(rotation=45, fontsize=7)\n",
    "    plt.tight_layout()\n",
    "\n",
    "    \n"
   ]
  },
  {
   "cell_type": "code",
   "execution_count": 18,
   "metadata": {},
   "outputs": [
    {
     "data": {
      "image/png": "[encoded data removed]",
      "text/plain": [
       "<Figure size 432x288 with 9 Axes>"
      ]
     },
     "metadata": {
      "needs_background": "light"
     },
     "output_type": "display_data"
    }
   ],
   "source": [
    "# world cloud of words in 9 topics\n",
    "\n",
    "from wordcloud import WordCloud\n",
    "fig = plt.figure()\n",
    "for i in range(9):\n",
    "    fig.add_subplot(3, 3, i+1)\n",
    "    topic_counts_df = df_word_count.loc[topic_words[i]].sort_values(by = 'count', ascending = False)\n",
    "    word_dict =  {word : count for word, count in zip(topic_counts_df.index, topic_counts_df['count'].values)}\n",
    "    wordcloud = WordCloud(background_color ='white')\n",
    "    wordcloud.generate_from_frequencies(frequencies=word_dict)\n",
    "\n",
    "    plt.imshow(wordcloud, interpolation=\"bilinear\")\n",
    "    plt.axis(\"off\")\n",
    "    plt.title('Topic_'+ str(i))\n",
    "    plt.tight_layout()"
   ]
  },
  {
   "cell_type": "markdown",
   "metadata": {},
   "source": [
    "## Finding news sentiments"
   ]
  },
  {
   "cell_type": "code",
   "execution_count": 8,
   "metadata": {},
   "outputs": [],
   "source": [
    "#remove punctuations and non-alpha words \n",
    "def clean_text(text):\n",
    "    # split into words\n",
    "    tokens = word_tokenize(text)\n",
    "    # convert to lower case\n",
    "    tokens = [w.lower() for w in tokens]\n",
    "    # remove punctuation from each word\n",
    "    table = str.maketrans('', '', string.punctuation)\n",
    "    stripped = [w.translate(table) for w in tokens]\n",
    "    # # remove remaining tokens that are not alphabetic\n",
    "    words = [word for word in stripped if word.isalpha()]\n",
    "    # # filter out stop words\n",
    "    from nltk.corpus import stopwords\n",
    "    stop_words = set(stopwords.words('english'))\n",
    "    words = [w for w in words if not w in stop_words]\n",
    "    #stemmed_tokens = [p_stemmer.stem(i) for i in stopped_tokens]\n",
    "    words = ' '.join(words)\n",
    "    return words\n",
    "    \n",
    "\n",
    "\n",
    "#Find News titles Sentiment using the updated lexicon of vaderSentiment\n",
    "#To Do: add the news content for as the feature\n",
    "\n",
    "from vaderSentiment.vaderSentiment import SentimentIntensityAnalyzer \n",
    "\n",
    "def sentiment_score_vade(sent):\n",
    "    \n",
    "    '''\n",
    "    find the sentiment of news with the updated lexicon\n",
    "    retruns: total poliarity of sentences (positve + negative + nuetral)\n",
    "    '''\n",
    "    \n",
    "    sia = SentimentIntensityAnalyzer()\n",
    "    new_words = {\n",
    "        'crushes': 10,\n",
    "        'beats': 5,\n",
    "        'misses': -5,\n",
    "        'trouble': -10,\n",
    "        'falls': -100,\n",
    "    }\n",
    "    sia.lexicon.update(new_words)\n",
    "    return sia.polarity_scores(sent)['compound']"
   ]
  },
  {
   "cell_type": "markdown",
   "metadata": {},
   "source": [
    "## DataFrame preprarion\n",
    "\n",
    "Pulling Dow Jones Industrial average and Mergeing/alingning with the sentiment data"
   ]
  },
  {
   "cell_type": "code",
   "execution_count": 9,
   "metadata": {},
   "outputs": [],
   "source": [
    "#make a dataframe using dates and titles and the corosponding sentiment\n",
    "\n",
    "import pandas as pd\n",
    "\n",
    "df = pd.DataFrame({\"date\": dates, \"title\": titles})\n",
    "df[\"date\"] = pd.to_datetime(df[\"date\"])\n",
    "df.set_index(\"date\", inplace = True)\n",
    "df = df.sort_index()\n",
    "df['sentiment'] = df.apply(sentiment_score_vade, axis = 1)"
   ]
  },
  {
   "cell_type": "code",
   "execution_count": null,
   "metadata": {},
   "outputs": [],
   "source": [
    "df.index = df.index.strftime('%Y-%m-%d')"
   ]
  },
  {
   "cell_type": "code",
   "execution_count": 12,
   "metadata": {},
   "outputs": [
    {
     "name": "stdout",
     "output_type": "stream",
     "text": [
      "[*********************100%***********************]  1 of 1 completed\n"
     ]
    }
   ],
   "source": [
    "# Getting historical data for Dow Jones Industrial Average index\n",
    "\n",
    "ticker = 'DJI'\n",
    "sdate = df.index[0]\n",
    "edate = df.index[-1]\n",
    "\n",
    "price_data = yf.download(ticker, sdate, edate)"
   ]
  },
  {
   "cell_type": "code",
   "execution_count": 13,
   "metadata": {},
   "outputs": [
    {
     "data": {
      "text/html": [
       "<div>\n",
       "<style scoped>\n",
       "    .dataframe tbody tr th:only-of-type {\n",
       "        vertical-align: middle;\n",
       "    }\n",
       "\n",
       "    .dataframe tbody tr th {\n",
       "        vertical-align: top;\n",
       "    }\n",
       "\n",
       "    .dataframe thead th {\n",
       "        text-align: right;\n",
       "    }\n",
       "</style>\n",
       "<table border=\"1\" class=\"dataframe\">\n",
       "  <thead>\n",
       "    <tr style=\"text-align: right;\">\n",
       "      <th></th>\n",
       "      <th>Open</th>\n",
       "      <th>High</th>\n",
       "      <th>Low</th>\n",
       "      <th>Close</th>\n",
       "      <th>Adj Close</th>\n",
       "      <th>Volume</th>\n",
       "    </tr>\n",
       "    <tr>\n",
       "      <th>Date</th>\n",
       "      <th></th>\n",
       "      <th></th>\n",
       "      <th></th>\n",
       "      <th></th>\n",
       "      <th></th>\n",
       "      <th></th>\n",
       "    </tr>\n",
       "  </thead>\n",
       "  <tbody>\n",
       "    <tr>\n",
       "      <th>2008-02-22</th>\n",
       "      <td>12381.000000</td>\n",
       "      <td>12381.000000</td>\n",
       "      <td>12381.000000</td>\n",
       "      <td>12381.000000</td>\n",
       "      <td>12381.000000</td>\n",
       "      <td>0</td>\n",
       "    </tr>\n",
       "    <tr>\n",
       "      <th>2008-02-25</th>\n",
       "      <td>12570.200195</td>\n",
       "      <td>12570.200195</td>\n",
       "      <td>12570.200195</td>\n",
       "      <td>12570.200195</td>\n",
       "      <td>12570.200195</td>\n",
       "      <td>0</td>\n",
       "    </tr>\n",
       "    <tr>\n",
       "      <th>2008-02-26</th>\n",
       "      <td>12684.900391</td>\n",
       "      <td>12684.900391</td>\n",
       "      <td>12684.900391</td>\n",
       "      <td>12684.900391</td>\n",
       "      <td>12684.900391</td>\n",
       "      <td>0</td>\n",
       "    </tr>\n",
       "    <tr>\n",
       "      <th>2008-02-27</th>\n",
       "      <td>12694.299805</td>\n",
       "      <td>12694.299805</td>\n",
       "      <td>12694.299805</td>\n",
       "      <td>12694.299805</td>\n",
       "      <td>12694.299805</td>\n",
       "      <td>0</td>\n",
       "    </tr>\n",
       "    <tr>\n",
       "      <th>2008-02-28</th>\n",
       "      <td>12582.200195</td>\n",
       "      <td>12582.200195</td>\n",
       "      <td>12582.200195</td>\n",
       "      <td>12582.200195</td>\n",
       "      <td>12582.200195</td>\n",
       "      <td>0</td>\n",
       "    </tr>\n",
       "  </tbody>\n",
       "</table>\n",
       "</div>"
      ],
      "text/plain": [
       "                    Open          High           Low         Close  \\\n",
       "Date                                                                 \n",
       "2008-02-22  12381.000000  12381.000000  12381.000000  12381.000000   \n",
       "2008-02-25  12570.200195  12570.200195  12570.200195  12570.200195   \n",
       "2008-02-26  12684.900391  12684.900391  12684.900391  12684.900391   \n",
       "2008-02-27  12694.299805  12694.299805  12694.299805  12694.299805   \n",
       "2008-02-28  12582.200195  12582.200195  12582.200195  12582.200195   \n",
       "\n",
       "               Adj Close  Volume  \n",
       "Date                              \n",
       "2008-02-22  12381.000000       0  \n",
       "2008-02-25  12570.200195       0  \n",
       "2008-02-26  12684.900391       0  \n",
       "2008-02-27  12694.299805       0  \n",
       "2008-02-28  12582.200195       0  "
      ]
     },
     "execution_count": 13,
     "metadata": {},
     "output_type": "execute_result"
    }
   ],
   "source": [
    "price_data.tail()"
   ]
  },
  {
   "cell_type": "code",
   "execution_count": 14,
   "metadata": {},
   "outputs": [],
   "source": [
    "#Compute the standardize (centered by the mean and divided by std) 5-days rolling average of news sentiment\n",
    "\n",
    "r_wind = 5 \n",
    "tol = 0.0001\n",
    "df['std_sentiment'] = (df['sentiment'] - df['sentiment'].rolling(r_wind).mean())/(df['sentiment'].rolling(r_wind).std()+tol)"
   ]
  },
  {
   "cell_type": "code",
   "execution_count": 15,
   "metadata": {},
   "outputs": [],
   "source": [
    "df_mix_all = pd.merge(price_data, df[[\"std_sentiment\"]], left_index = True, right_index = True)\n",
    "df_mix_all.fillna(method='bfill', inplace=True)"
   ]
  },
  {
   "cell_type": "code",
   "execution_count": 16,
   "metadata": {},
   "outputs": [
    {
     "data": {
      "text/plain": [
       "array([[<matplotlib.axes._subplots.AxesSubplot object at 0x7f2c67172d00>,\n",
       "        <matplotlib.axes._subplots.AxesSubplot object at 0x7f2c67145250>],\n",
       "       [<matplotlib.axes._subplots.AxesSubplot object at 0x7f2c646da6d0>,\n",
       "        <matplotlib.axes._subplots.AxesSubplot object at 0x7f2c64700b50>],\n",
       "       [<matplotlib.axes._subplots.AxesSubplot object at 0x7f2c646a9fa0>,\n",
       "        <matplotlib.axes._subplots.AxesSubplot object at 0x7f2c6465d490>]],\n",
       "      dtype=object)"
      ]
     },
     "execution_count": 16,
     "metadata": {},
     "output_type": "execute_result"
    },
    {
     "data": {
      "image/png": "[encoded data removed]",
      "text/plain": [
       "<Figure size 432x288 with 6 Axes>"
      ]
     },
     "metadata": {
      "needs_background": "light"
     },
     "output_type": "display_data"
    }
   ],
   "source": [
    "# Plot a histogram for few columns of the dataframe which shows the distribution of values\n",
    "df_mix_all[[\"Close\", \"Open\", \"High\", \"Low\", \"std_sentiment\"]].hist(sharex = False, sharey = False, xlabelsize = 4, ylabelsize = 4)"
   ]
  },
  {
   "cell_type": "code",
   "execution_count": 19,
   "metadata": {},
   "outputs": [],
   "source": [
    "#We use only \"Close\" price and news sentiments as features of our model\n",
    "#Merge historical data and news sentiments and handle missing values\n",
    "\n",
    "df_mix = pd.merge(price_data[[\"Close\"]], df[[\"std_sentiment\"]], left_index = True, right_index = True)\n",
    "df_mix.fillna(method='bfill', inplace=True)"
   ]
  },
  {
   "cell_type": "code",
   "execution_count": 20,
   "metadata": {},
   "outputs": [
    {
     "data": {
      "text/html": [
       "<div>\n",
       "<style scoped>\n",
       "    .dataframe tbody tr th:only-of-type {\n",
       "        vertical-align: middle;\n",
       "    }\n",
       "\n",
       "    .dataframe tbody tr th {\n",
       "        vertical-align: top;\n",
       "    }\n",
       "\n",
       "    .dataframe thead th {\n",
       "        text-align: right;\n",
       "    }\n",
       "</style>\n",
       "<table border=\"1\" class=\"dataframe\">\n",
       "  <thead>\n",
       "    <tr style=\"text-align: right;\">\n",
       "      <th></th>\n",
       "      <th>Close</th>\n",
       "      <th>std_sentiment</th>\n",
       "    </tr>\n",
       "  </thead>\n",
       "  <tbody>\n",
       "    <tr>\n",
       "      <th>count</th>\n",
       "      <td>15176.000000</td>\n",
       "      <td>1.517600e+04</td>\n",
       "    </tr>\n",
       "    <tr>\n",
       "      <th>mean</th>\n",
       "      <td>12964.789762</td>\n",
       "      <td>-2.622384e-03</td>\n",
       "    </tr>\n",
       "    <tr>\n",
       "      <th>std</th>\n",
       "      <td>587.925574</td>\n",
       "      <td>8.870095e-01</td>\n",
       "    </tr>\n",
       "    <tr>\n",
       "      <th>min</th>\n",
       "      <td>11971.200195</td>\n",
       "      <td>-1.788454e+00</td>\n",
       "    </tr>\n",
       "    <tr>\n",
       "      <th>25%</th>\n",
       "      <td>12442.200195</td>\n",
       "      <td>-6.618594e-01</td>\n",
       "    </tr>\n",
       "    <tr>\n",
       "      <th>50%</th>\n",
       "      <td>12958.400391</td>\n",
       "      <td>-1.332031e-12</td>\n",
       "    </tr>\n",
       "    <tr>\n",
       "      <th>75%</th>\n",
       "      <td>13463.299805</td>\n",
       "      <td>6.582234e-01</td>\n",
       "    </tr>\n",
       "    <tr>\n",
       "      <th>max</th>\n",
       "      <td>14164.500000</td>\n",
       "      <td>1.788426e+00</td>\n",
       "    </tr>\n",
       "  </tbody>\n",
       "</table>\n",
       "</div>"
      ],
      "text/plain": [
       "              Close  std_sentiment\n",
       "count  15176.000000   1.517600e+04\n",
       "mean   12964.789762  -2.622384e-03\n",
       "std      587.925574   8.870095e-01\n",
       "min    11971.200195  -1.788454e+00\n",
       "25%    12442.200195  -6.618594e-01\n",
       "50%    12958.400391  -1.332031e-12\n",
       "75%    13463.299805   6.582234e-01\n",
       "max    14164.500000   1.788426e+00"
      ]
     },
     "execution_count": 20,
     "metadata": {},
     "output_type": "execute_result"
    }
   ],
   "source": [
    "df_mix.describe()"
   ]
  },
  {
   "cell_type": "code",
   "execution_count": null,
   "metadata": {},
   "outputs": [],
   "source": [
    "# picle the mixed datafarme\n",
    "df_mix.to_pickle(\"./data_mix.pkl\")\n",
    "# df_mix = pd.read_pickle('./data_mix.pkl')\n",
    "# df_mix.head()"
   ]
  },
  {
   "cell_type": "markdown",
   "metadata": {},
   "source": [
    "## Time series visualization"
   ]
  },
  {
   "cell_type": "code",
   "execution_count": 114,
   "metadata": {},
   "outputs": [
    {
     "data": {
      "text/plain": [
       "Text(0.5, 1.0, 'Dow Jones Industrial Average')"
      ]
     },
     "execution_count": 114,
     "metadata": {},
     "output_type": "execute_result"
    },
    {
     "data": {
      "image/png": "[encoded data removed]",
      "text/plain": [
       "<Figure size 1080x504 with 3 Axes>"
      ]
     },
     "metadata": {
      "needs_background": "light"
     },
     "output_type": "display_data"
    }
   ],
   "source": [
    "#visualizing the news sentiment and the historical data\n",
    "\n",
    "import matplotlib.pyplot as plt\n",
    "from matplotlib.colors import Normalize\n",
    "import matplotlib.cm as cm\n",
    "from mpl_toolkits.axes_grid1 import make_axes_locatable\n",
    "\n",
    "mask_step = 4\n",
    "my_cmap = cm.get_cmap('jet')\n",
    "# my_cmap = cm.get_cmap('Spectral')\n",
    "sent_vals = df_mix[['std_sentiment']].values[:, 0]\n",
    "my_norm = Normalize(vmin=min(sent_vals), vmax=max(sent_vals))\n",
    "\n",
    "fig, (ax1, ax2) = plt.subplots(2, 1, figsize=(15, 7))\n",
    "ax1.bar(df_mix.index.values[::mask_step], sent_vals[::mask_step], color = my_cmap(my_norm(sent_vals[::mask_step])), label = 'New-sentiment')\n",
    "ax1.set_title('News Sentiment')\n",
    "ax1.axes.xaxis.set_visible(False)\n",
    "\n",
    "divider = make_axes_locatable(ax1)\n",
    "cax = divider.new_vertical(size=\"5%\", pad=.6)\n",
    "cax.xaxis.set_ticks_position(\"top\")\n",
    "\n",
    "fig.add_axes(cax)\n",
    "\n",
    "plt.colorbar(cm.ScalarMappable(norm=my_norm, cmap=my_cmap),\n",
    "             cax=cax,\n",
    "             orientation='horizontal', fraction=0.02,anchor=(1.0,0.0))\n",
    "\n",
    "\n",
    "ax2.plot(df_mix.index, df_mix[[\"Close\"]], c = 'b', label = 'DJI-Close')\n",
    "ax2.legend()\n",
    "ax2.set_title('Dow Jones Industrial Average')\n"
   ]
  },
  {
   "cell_type": "markdown",
   "metadata": {},
   "source": [
    "## Baseline"
   ]
  },
  {
   "cell_type": "code",
   "execution_count": 333,
   "metadata": {},
   "outputs": [],
   "source": [
    "\n",
    "df_mix = pd.merge(price_data[[\"Close\", \"Open\", \"High\", \"Low\"]], df[[\"std_sentiment\"]], left_index = True, right_index = True)\n",
    "df_mix.fillna(method='bfill', inplace=True)"
   ]
  },
  {
   "cell_type": "code",
   "execution_count": 334,
   "metadata": {
    "collapsed": true
   },
   "outputs": [
    {
     "data": {
      "text/html": [
       "<div>\n",
       "<style scoped>\n",
       "    .dataframe tbody tr th:only-of-type {\n",
       "        vertical-align: middle;\n",
       "    }\n",
       "\n",
       "    .dataframe tbody tr th {\n",
       "        vertical-align: top;\n",
       "    }\n",
       "\n",
       "    .dataframe thead th {\n",
       "        text-align: right;\n",
       "    }\n",
       "</style>\n",
       "<table border=\"1\" class=\"dataframe\">\n",
       "  <thead>\n",
       "    <tr style=\"text-align: right;\">\n",
       "      <th></th>\n",
       "      <th>Close</th>\n",
       "      <th>Open</th>\n",
       "      <th>High</th>\n",
       "      <th>Low</th>\n",
       "      <th>std_sentiment</th>\n",
       "    </tr>\n",
       "  </thead>\n",
       "  <tbody>\n",
       "    <tr>\n",
       "      <th>2006-10-20</th>\n",
       "      <td>12002.400391</td>\n",
       "      <td>12002.400391</td>\n",
       "      <td>12002.400391</td>\n",
       "      <td>12002.400391</td>\n",
       "      <td>0.933414</td>\n",
       "    </tr>\n",
       "    <tr>\n",
       "      <th>2006-10-20</th>\n",
       "      <td>12002.400391</td>\n",
       "      <td>12002.400391</td>\n",
       "      <td>12002.400391</td>\n",
       "      <td>12002.400391</td>\n",
       "      <td>0.933414</td>\n",
       "    </tr>\n",
       "    <tr>\n",
       "      <th>2006-10-23</th>\n",
       "      <td>12116.900391</td>\n",
       "      <td>12116.900391</td>\n",
       "      <td>12116.900391</td>\n",
       "      <td>12116.900391</td>\n",
       "      <td>0.933414</td>\n",
       "    </tr>\n",
       "    <tr>\n",
       "      <th>2006-10-23</th>\n",
       "      <td>12116.900391</td>\n",
       "      <td>12116.900391</td>\n",
       "      <td>12116.900391</td>\n",
       "      <td>12116.900391</td>\n",
       "      <td>-0.097705</td>\n",
       "    </tr>\n",
       "    <tr>\n",
       "      <th>2006-10-23</th>\n",
       "      <td>12116.900391</td>\n",
       "      <td>12116.900391</td>\n",
       "      <td>12116.900391</td>\n",
       "      <td>12116.900391</td>\n",
       "      <td>-0.097705</td>\n",
       "    </tr>\n",
       "    <tr>\n",
       "      <th>2006-10-23</th>\n",
       "      <td>12116.900391</td>\n",
       "      <td>12116.900391</td>\n",
       "      <td>12116.900391</td>\n",
       "      <td>12116.900391</td>\n",
       "      <td>0.498918</td>\n",
       "    </tr>\n",
       "    <tr>\n",
       "      <th>2006-10-23</th>\n",
       "      <td>12116.900391</td>\n",
       "      <td>12116.900391</td>\n",
       "      <td>12116.900391</td>\n",
       "      <td>12116.900391</td>\n",
       "      <td>0.360389</td>\n",
       "    </tr>\n",
       "    <tr>\n",
       "      <th>2006-10-23</th>\n",
       "      <td>12116.900391</td>\n",
       "      <td>12116.900391</td>\n",
       "      <td>12116.900391</td>\n",
       "      <td>12116.900391</td>\n",
       "      <td>-0.724063</td>\n",
       "    </tr>\n",
       "    <tr>\n",
       "      <th>2006-10-23</th>\n",
       "      <td>12116.900391</td>\n",
       "      <td>12116.900391</td>\n",
       "      <td>12116.900391</td>\n",
       "      <td>12116.900391</td>\n",
       "      <td>-0.724063</td>\n",
       "    </tr>\n",
       "    <tr>\n",
       "      <th>2006-10-23</th>\n",
       "      <td>12116.900391</td>\n",
       "      <td>12116.900391</td>\n",
       "      <td>12116.900391</td>\n",
       "      <td>12116.900391</td>\n",
       "      <td>-1.482735</td>\n",
       "    </tr>\n",
       "  </tbody>\n",
       "</table>\n",
       "</div>"
      ],
      "text/plain": [
       "                   Close          Open          High           Low  \\\n",
       "2006-10-20  12002.400391  12002.400391  12002.400391  12002.400391   \n",
       "2006-10-20  12002.400391  12002.400391  12002.400391  12002.400391   \n",
       "2006-10-23  12116.900391  12116.900391  12116.900391  12116.900391   \n",
       "2006-10-23  12116.900391  12116.900391  12116.900391  12116.900391   \n",
       "2006-10-23  12116.900391  12116.900391  12116.900391  12116.900391   \n",
       "2006-10-23  12116.900391  12116.900391  12116.900391  12116.900391   \n",
       "2006-10-23  12116.900391  12116.900391  12116.900391  12116.900391   \n",
       "2006-10-23  12116.900391  12116.900391  12116.900391  12116.900391   \n",
       "2006-10-23  12116.900391  12116.900391  12116.900391  12116.900391   \n",
       "2006-10-23  12116.900391  12116.900391  12116.900391  12116.900391   \n",
       "\n",
       "            std_sentiment  \n",
       "2006-10-20       0.933414  \n",
       "2006-10-20       0.933414  \n",
       "2006-10-23       0.933414  \n",
       "2006-10-23      -0.097705  \n",
       "2006-10-23      -0.097705  \n",
       "2006-10-23       0.498918  \n",
       "2006-10-23       0.360389  \n",
       "2006-10-23      -0.724063  \n",
       "2006-10-23      -0.724063  \n",
       "2006-10-23      -1.482735  "
      ]
     },
     "execution_count": 334,
     "metadata": {},
     "output_type": "execute_result"
    }
   ],
   "source": [
    "df_mix.head(10)"
   ]
  },
  {
   "cell_type": "code",
   "execution_count": 335,
   "metadata": {},
   "outputs": [],
   "source": [
    "#take the average of all news sentiments in a day\n",
    "df_mix = df_mix.groupby(df_mix.index).mean()"
   ]
  },
  {
   "cell_type": "code",
   "execution_count": 203,
   "metadata": {},
   "outputs": [],
   "source": [
    "df_mix.to_pickle(\"./data_mix.pkl\")"
   ]
  },
  {
   "cell_type": "code",
   "execution_count": 336,
   "metadata": {},
   "outputs": [
    {
     "data": {
      "text/html": [
       "<div>\n",
       "<style scoped>\n",
       "    .dataframe tbody tr th:only-of-type {\n",
       "        vertical-align: middle;\n",
       "    }\n",
       "\n",
       "    .dataframe tbody tr th {\n",
       "        vertical-align: top;\n",
       "    }\n",
       "\n",
       "    .dataframe thead th {\n",
       "        text-align: right;\n",
       "    }\n",
       "</style>\n",
       "<table border=\"1\" class=\"dataframe\">\n",
       "  <thead>\n",
       "    <tr style=\"text-align: right;\">\n",
       "      <th></th>\n",
       "      <th>Close</th>\n",
       "      <th>Open</th>\n",
       "      <th>High</th>\n",
       "      <th>Low</th>\n",
       "      <th>std_sentiment</th>\n",
       "      <th>Close_normd</th>\n",
       "      <th>Open_normd</th>\n",
       "      <th>High_normd</th>\n",
       "      <th>Low_normd</th>\n",
       "      <th>std_sentiment_normd</th>\n",
       "    </tr>\n",
       "  </thead>\n",
       "  <tbody>\n",
       "    <tr>\n",
       "      <th>2006-10-20</th>\n",
       "      <td>12002.400391</td>\n",
       "      <td>12002.400391</td>\n",
       "      <td>12002.400391</td>\n",
       "      <td>12002.400391</td>\n",
       "      <td>0.933414</td>\n",
       "      <td>0.014225</td>\n",
       "      <td>0.014225</td>\n",
       "      <td>0.014225</td>\n",
       "      <td>0.014225</td>\n",
       "      <td>1.000000</td>\n",
       "    </tr>\n",
       "    <tr>\n",
       "      <th>2006-10-23</th>\n",
       "      <td>12116.900391</td>\n",
       "      <td>12116.900391</td>\n",
       "      <td>12116.900391</td>\n",
       "      <td>12116.900391</td>\n",
       "      <td>-0.081187</td>\n",
       "      <td>0.066430</td>\n",
       "      <td>0.066430</td>\n",
       "      <td>0.066430</td>\n",
       "      <td>0.066430</td>\n",
       "      <td>0.085286</td>\n",
       "    </tr>\n",
       "    <tr>\n",
       "      <th>2006-10-24</th>\n",
       "      <td>12127.900391</td>\n",
       "      <td>12127.900391</td>\n",
       "      <td>12127.900391</td>\n",
       "      <td>12127.900391</td>\n",
       "      <td>0.102231</td>\n",
       "      <td>0.071445</td>\n",
       "      <td>0.071445</td>\n",
       "      <td>0.071445</td>\n",
       "      <td>0.071445</td>\n",
       "      <td>0.250647</td>\n",
       "    </tr>\n",
       "    <tr>\n",
       "      <th>2006-10-25</th>\n",
       "      <td>12134.700195</td>\n",
       "      <td>12134.700195</td>\n",
       "      <td>12134.700195</td>\n",
       "      <td>12134.700195</td>\n",
       "      <td>0.000761</td>\n",
       "      <td>0.074545</td>\n",
       "      <td>0.074545</td>\n",
       "      <td>0.074545</td>\n",
       "      <td>0.074545</td>\n",
       "      <td>0.159167</td>\n",
       "    </tr>\n",
       "    <tr>\n",
       "      <th>2006-10-26</th>\n",
       "      <td>12163.700195</td>\n",
       "      <td>12163.700195</td>\n",
       "      <td>12163.700195</td>\n",
       "      <td>12163.700195</td>\n",
       "      <td>-0.027549</td>\n",
       "      <td>0.087767</td>\n",
       "      <td>0.087767</td>\n",
       "      <td>0.087767</td>\n",
       "      <td>0.087767</td>\n",
       "      <td>0.133644</td>\n",
       "    </tr>\n",
       "    <tr>\n",
       "      <th>...</th>\n",
       "      <td>...</td>\n",
       "      <td>...</td>\n",
       "      <td>...</td>\n",
       "      <td>...</td>\n",
       "      <td>...</td>\n",
       "      <td>...</td>\n",
       "      <td>...</td>\n",
       "      <td>...</td>\n",
       "      <td>...</td>\n",
       "      <td>...</td>\n",
       "    </tr>\n",
       "    <tr>\n",
       "      <th>2008-02-22</th>\n",
       "      <td>12381.000000</td>\n",
       "      <td>12381.000000</td>\n",
       "      <td>12381.000000</td>\n",
       "      <td>12381.000000</td>\n",
       "      <td>0.005960</td>\n",
       "      <td>0.186842</td>\n",
       "      <td>0.186842</td>\n",
       "      <td>0.186842</td>\n",
       "      <td>0.186842</td>\n",
       "      <td>0.163854</td>\n",
       "    </tr>\n",
       "    <tr>\n",
       "      <th>2008-02-25</th>\n",
       "      <td>12570.200195</td>\n",
       "      <td>12570.200195</td>\n",
       "      <td>12570.200195</td>\n",
       "      <td>12570.200195</td>\n",
       "      <td>-0.057495</td>\n",
       "      <td>0.273104</td>\n",
       "      <td>0.273104</td>\n",
       "      <td>0.273104</td>\n",
       "      <td>0.273104</td>\n",
       "      <td>0.106646</td>\n",
       "    </tr>\n",
       "    <tr>\n",
       "      <th>2008-02-26</th>\n",
       "      <td>12684.900391</td>\n",
       "      <td>12684.900391</td>\n",
       "      <td>12684.900391</td>\n",
       "      <td>12684.900391</td>\n",
       "      <td>0.000636</td>\n",
       "      <td>0.325400</td>\n",
       "      <td>0.325400</td>\n",
       "      <td>0.325400</td>\n",
       "      <td>0.325400</td>\n",
       "      <td>0.159054</td>\n",
       "    </tr>\n",
       "    <tr>\n",
       "      <th>2008-02-27</th>\n",
       "      <td>12694.299805</td>\n",
       "      <td>12694.299805</td>\n",
       "      <td>12694.299805</td>\n",
       "      <td>12694.299805</td>\n",
       "      <td>-0.071790</td>\n",
       "      <td>0.329686</td>\n",
       "      <td>0.329686</td>\n",
       "      <td>0.329686</td>\n",
       "      <td>0.329686</td>\n",
       "      <td>0.093758</td>\n",
       "    </tr>\n",
       "    <tr>\n",
       "      <th>2008-02-28</th>\n",
       "      <td>12582.200195</td>\n",
       "      <td>12582.200195</td>\n",
       "      <td>12582.200195</td>\n",
       "      <td>12582.200195</td>\n",
       "      <td>-0.076089</td>\n",
       "      <td>0.278576</td>\n",
       "      <td>0.278576</td>\n",
       "      <td>0.278576</td>\n",
       "      <td>0.278576</td>\n",
       "      <td>0.089882</td>\n",
       "    </tr>\n",
       "  </tbody>\n",
       "</table>\n",
       "<p>340 rows × 10 columns</p>\n",
       "</div>"
      ],
      "text/plain": [
       "                   Close          Open          High           Low  \\\n",
       "2006-10-20  12002.400391  12002.400391  12002.400391  12002.400391   \n",
       "2006-10-23  12116.900391  12116.900391  12116.900391  12116.900391   \n",
       "2006-10-24  12127.900391  12127.900391  12127.900391  12127.900391   \n",
       "2006-10-25  12134.700195  12134.700195  12134.700195  12134.700195   \n",
       "2006-10-26  12163.700195  12163.700195  12163.700195  12163.700195   \n",
       "...                  ...           ...           ...           ...   \n",
       "2008-02-22  12381.000000  12381.000000  12381.000000  12381.000000   \n",
       "2008-02-25  12570.200195  12570.200195  12570.200195  12570.200195   \n",
       "2008-02-26  12684.900391  12684.900391  12684.900391  12684.900391   \n",
       "2008-02-27  12694.299805  12694.299805  12694.299805  12694.299805   \n",
       "2008-02-28  12582.200195  12582.200195  12582.200195  12582.200195   \n",
       "\n",
       "            std_sentiment  Close_normd  Open_normd  High_normd  Low_normd  \\\n",
       "2006-10-20       0.933414     0.014225    0.014225    0.014225   0.014225   \n",
       "2006-10-23      -0.081187     0.066430    0.066430    0.066430   0.066430   \n",
       "2006-10-24       0.102231     0.071445    0.071445    0.071445   0.071445   \n",
       "2006-10-25       0.000761     0.074545    0.074545    0.074545   0.074545   \n",
       "2006-10-26      -0.027549     0.087767    0.087767    0.087767   0.087767   \n",
       "...                   ...          ...         ...         ...        ...   \n",
       "2008-02-22       0.005960     0.186842    0.186842    0.186842   0.186842   \n",
       "2008-02-25      -0.057495     0.273104    0.273104    0.273104   0.273104   \n",
       "2008-02-26       0.000636     0.325400    0.325400    0.325400   0.325400   \n",
       "2008-02-27      -0.071790     0.329686    0.329686    0.329686   0.329686   \n",
       "2008-02-28      -0.076089     0.278576    0.278576    0.278576   0.278576   \n",
       "\n",
       "            std_sentiment_normd  \n",
       "2006-10-20             1.000000  \n",
       "2006-10-23             0.085286  \n",
       "2006-10-24             0.250647  \n",
       "2006-10-25             0.159167  \n",
       "2006-10-26             0.133644  \n",
       "...                         ...  \n",
       "2008-02-22             0.163854  \n",
       "2008-02-25             0.106646  \n",
       "2008-02-26             0.159054  \n",
       "2008-02-27             0.093758  \n",
       "2008-02-28             0.089882  \n",
       "\n",
       "[340 rows x 10 columns]"
      ]
     },
     "execution_count": 336,
     "metadata": {},
     "output_type": "execute_result"
    }
   ],
   "source": [
    "#standardize the data\n",
    "def minmax_transform(df):\n",
    "    df_vals = df_mix.values\n",
    "    for i, col in enumerate(df.columns):\n",
    "        scaler = MinMaxScaler(feature_range=(0,1))\n",
    "        df[col + '_normd'] = scaler.fit_transform(df_vals[:, i].reshape(-1,1))\n",
    "        \n",
    "    return df\n",
    "        \n",
    "minmax_transform(df_mix)"
   ]
  },
  {
   "cell_type": "code",
   "execution_count": 255,
   "metadata": {},
   "outputs": [],
   "source": [
    "df_mix.drop(['Close', 'Open', 'High', 'Low'], axis = 1, inplace = True)"
   ]
  },
  {
   "cell_type": "code",
   "execution_count": 337,
   "metadata": {},
   "outputs": [],
   "source": [
    "df_mix = df_mix[['Close_normd', 'std_sentiment']]"
   ]
  },
  {
   "cell_type": "code",
   "execution_count": 338,
   "metadata": {},
   "outputs": [
    {
     "data": {
      "text/html": [
       "<div>\n",
       "<style scoped>\n",
       "    .dataframe tbody tr th:only-of-type {\n",
       "        vertical-align: middle;\n",
       "    }\n",
       "\n",
       "    .dataframe tbody tr th {\n",
       "        vertical-align: top;\n",
       "    }\n",
       "\n",
       "    .dataframe thead th {\n",
       "        text-align: right;\n",
       "    }\n",
       "</style>\n",
       "<table border=\"1\" class=\"dataframe\">\n",
       "  <thead>\n",
       "    <tr style=\"text-align: right;\">\n",
       "      <th></th>\n",
       "      <th>Close_normd</th>\n",
       "      <th>std_sentiment</th>\n",
       "    </tr>\n",
       "  </thead>\n",
       "  <tbody>\n",
       "    <tr>\n",
       "      <th>2006-10-20</th>\n",
       "      <td>0.014225</td>\n",
       "      <td>0.933414</td>\n",
       "    </tr>\n",
       "    <tr>\n",
       "      <th>2006-10-23</th>\n",
       "      <td>0.066430</td>\n",
       "      <td>-0.081187</td>\n",
       "    </tr>\n",
       "    <tr>\n",
       "      <th>2006-10-24</th>\n",
       "      <td>0.071445</td>\n",
       "      <td>0.102231</td>\n",
       "    </tr>\n",
       "    <tr>\n",
       "      <th>2006-10-25</th>\n",
       "      <td>0.074545</td>\n",
       "      <td>0.000761</td>\n",
       "    </tr>\n",
       "    <tr>\n",
       "      <th>2006-10-26</th>\n",
       "      <td>0.087767</td>\n",
       "      <td>-0.027549</td>\n",
       "    </tr>\n",
       "    <tr>\n",
       "      <th>...</th>\n",
       "      <td>...</td>\n",
       "      <td>...</td>\n",
       "    </tr>\n",
       "    <tr>\n",
       "      <th>2008-02-22</th>\n",
       "      <td>0.186842</td>\n",
       "      <td>0.005960</td>\n",
       "    </tr>\n",
       "    <tr>\n",
       "      <th>2008-02-25</th>\n",
       "      <td>0.273104</td>\n",
       "      <td>-0.057495</td>\n",
       "    </tr>\n",
       "    <tr>\n",
       "      <th>2008-02-26</th>\n",
       "      <td>0.325400</td>\n",
       "      <td>0.000636</td>\n",
       "    </tr>\n",
       "    <tr>\n",
       "      <th>2008-02-27</th>\n",
       "      <td>0.329686</td>\n",
       "      <td>-0.071790</td>\n",
       "    </tr>\n",
       "    <tr>\n",
       "      <th>2008-02-28</th>\n",
       "      <td>0.278576</td>\n",
       "      <td>-0.076089</td>\n",
       "    </tr>\n",
       "  </tbody>\n",
       "</table>\n",
       "<p>340 rows × 2 columns</p>\n",
       "</div>"
      ],
      "text/plain": [
       "            Close_normd  std_sentiment\n",
       "2006-10-20     0.014225       0.933414\n",
       "2006-10-23     0.066430      -0.081187\n",
       "2006-10-24     0.071445       0.102231\n",
       "2006-10-25     0.074545       0.000761\n",
       "2006-10-26     0.087767      -0.027549\n",
       "...                 ...            ...\n",
       "2008-02-22     0.186842       0.005960\n",
       "2008-02-25     0.273104      -0.057495\n",
       "2008-02-26     0.325400       0.000636\n",
       "2008-02-27     0.329686      -0.071790\n",
       "2008-02-28     0.278576      -0.076089\n",
       "\n",
       "[340 rows x 2 columns]"
      ]
     },
     "execution_count": 338,
     "metadata": {},
     "output_type": "execute_result"
    }
   ],
   "source": [
    "df_mix"
   ]
  },
  {
   "cell_type": "code",
   "execution_count": 339,
   "metadata": {
    "scrolled": false
   },
   "outputs": [],
   "source": [
    "# train and test split\n",
    "\n",
    "n = len(df_mix)\n",
    "train_df = df_mix[:int(n*0.7)]\n",
    "val_df = df_mix[int(0.7*n):int(0.9*n)]\n",
    "test_df = df_mix[int(0.9*n):-1]\n",
    "\n",
    "num_features = df_mix.shape[1]\n",
    "\n",
    "column_indices = {name: i for i, name in enumerate(df_mix.columns)}\n"
   ]
  },
  {
   "cell_type": "code",
   "execution_count": 315,
   "metadata": {},
   "outputs": [
    {
     "data": {
      "text/plain": [
       "array([<matplotlib.axes._subplots.AxesSubplot object at 0x7f2bdd66dca0>],\n",
       "      dtype=object)"
      ]
     },
     "execution_count": 315,
     "metadata": {},
     "output_type": "execute_result"
    },
    {
     "data": {
      "image/png": "[encoded data removed]",
      "text/plain": [
       "<Figure size 432x288 with 1 Axes>"
      ]
     },
     "metadata": {
      "needs_background": "light"
     },
     "output_type": "display_data"
    }
   ],
   "source": [
    "train_df.plot(subplots=True)"
   ]
  },
  {
   "cell_type": "markdown",
   "metadata": {},
   "source": [
    "## Preparing data sequnces and series generation using tensorflow Datasets\n",
    "\n",
    "Creating window sequences with WindowGenerator class to make label and input series for train, validation and test. Spliting and converting to tf.data.Dataset for batching to be fed to the network for training."
   ]
  },
  {
   "cell_type": "code",
   "execution_count": 340,
   "metadata": {},
   "outputs": [],
   "source": [
    "class WindowGenerator():\n",
    "    def __init__(self, input_width, label_width, shift,\n",
    "                   train_df=train_df, val_df=val_df, test_df=test_df,\n",
    "                   label_columns=None):\n",
    "        # Store the raw data.\n",
    "        self.train_df = train_df\n",
    "        self.val_df = val_df\n",
    "        self.test_df = test_df\n",
    "\n",
    "        # Work out the label column indices.\n",
    "        self.label_columns = label_columns\n",
    "        if label_columns is not None:\n",
    "            self.label_columns_indices = {name: i for i, name in\n",
    "                                    enumerate(label_columns)}\n",
    "        self.column_indices = {name: i for i, name in\n",
    "                               enumerate(train_df.columns)}\n",
    "\n",
    "        # Work out the window parameters.\n",
    "        self.input_width = input_width\n",
    "        self.label_width = label_width\n",
    "        self.shift = shift\n",
    "\n",
    "        self.total_window_size = input_width + shift\n",
    "\n",
    "        self.input_slice = slice(0, input_width)\n",
    "        self.input_indices = np.arange(self.total_window_size)[self.input_slice]\n",
    "\n",
    "        self.label_start = self.total_window_size - self.label_width\n",
    "        self.labels_slice = slice(self.label_start, None)\n",
    "        self.label_indices = np.arange(self.total_window_size)[self.labels_slice]\n",
    "\n",
    "    def __repr__(self):\n",
    "        return '\\n'.join([\n",
    "            f'Total window size: {self.total_window_size}',\n",
    "            f'Input indices: {self.input_indices}',\n",
    "            f'Label indices: {self.label_indices}',\n",
    "            f'Label column name(s): {self.label_columns}'])\n",
    "    \n",
    "    def split_window(self, features):\n",
    "        inputs = features[:, self.input_slice, :]\n",
    "        labels = features[:, self.labels_slice, :]\n",
    "        if self.label_columns is not None:\n",
    "            labels = tf.stack(\n",
    "            [labels[:, :, self.column_indices[name]] for name in self.label_columns],\n",
    "            axis=-1)\n",
    "\n",
    "          # Slicing doesn't preserve static shape information, so set the shapes\n",
    "          # manually. This way the `tf.data.Datasets` are easier to inspect.\n",
    "        inputs.set_shape([None, self.input_width, None])\n",
    "        labels.set_shape([None, self.label_width, None])\n",
    "\n",
    "        return inputs, labels\n",
    "    \n",
    "    def make_dataset(self, data):\n",
    "        data = np.array(data, dtype=np.float32)\n",
    "        ds = tf.keras.preprocessing.timeseries_dataset_from_array(\n",
    "        data=data,\n",
    "        targets=None,\n",
    "        sequence_length=self.total_window_size,\n",
    "        sequence_stride=1,\n",
    "        shuffle=True,\n",
    "        batch_size=32,)\n",
    "        ds = ds.map(self.split_window)\n",
    "\n",
    "        return ds\n",
    "    @property\n",
    "    def train(self):\n",
    "        return self.make_dataset(self.train_df)\n",
    "\n",
    "    @property\n",
    "    def val(self):\n",
    "        return self.make_dataset(self.val_df)\n",
    "\n",
    "    @property\n",
    "    def test(self):\n",
    "        return self.make_dataset(self.test_df)\n",
    "    @property\n",
    "    def example(self):\n",
    "        \"\"\"Get and cache an example batch of `inputs, labels` for plotting.\"\"\"\n",
    "        result = getattr(self, '_example', None)\n",
    "        if result is None:\n",
    "            # No example batch was found, so get one from the `.train` dataset\n",
    "            result = next(iter(self.train))\n",
    "            # And cache it for next time\n",
    "            self._example = result\n",
    "        return result\n",
    "    def plot(self, model=None, plot_col = 'Close', max_subplots=3):\n",
    "        inputs, labels = self.example\n",
    "        plt.figure(figsize=(12, 8))\n",
    "        plot_col_index = self.column_indices[plot_col]\n",
    "        max_n = min(max_subplots, len(inputs))\n",
    "        for n in range(max_n):\n",
    "            plt.subplot(3, 1, n+1)\n",
    "            plt.ylabel(f'{plot_col} [normed]')\n",
    "            plt.plot(self.input_indices, inputs[n, :, plot_col_index],\n",
    "                     label='Inputs', marker='.', zorder=-10)\n",
    "\n",
    "        if self.label_columns:\n",
    "            label_col_index = self.label_columns_indices.get(plot_col, None)\n",
    "        else:\n",
    "            label_col_index = plot_col_index\n",
    "\n",
    "\n",
    "        plt.scatter(self.label_indices, labels[n, :, label_col_index],\n",
    "                    edgecolors='k', label='Labels', c='#2ca02c', s=64)\n",
    "        if model is not None:\n",
    "            predictions = model(inputs)\n",
    "        plt.scatter(self.label_indices, predictions[n, :, label_col_index],\n",
    "                      marker='X', edgecolors='k', label='Predictions',\n",
    "                      c='#ff7f0e', s=64)\n",
    "\n",
    "        if n == 0:\n",
    "              plt.legend()\n",
    "\n",
    "        plt.xlabel('date')\n",
    "    \n",
    "class Baseline(tf.keras.Model):\n",
    "    def __init__(self, label_index=None):\n",
    "        super().__init__()\n",
    "        self.label_index = label_index\n",
    "\n",
    "    def call(self, inputs):\n",
    "        if self.label_index is None:\n",
    "            return inputs\n",
    "        result = inputs[:, :, self.label_index]\n",
    "        return result[:, :, tf.newaxis]"
   ]
  },
  {
   "cell_type": "code",
   "execution_count": 317,
   "metadata": {},
   "outputs": [
    {
     "data": {
      "text/plain": [
       "Total window size: 4\n",
       "Input indices: [0 1 2]\n",
       "Label indices: [3]\n",
       "Label column name(s): ['Close_normd']"
      ]
     },
     "execution_count": 317,
     "metadata": {},
     "output_type": "execute_result"
    }
   ],
   "source": [
    "w2 = WindowGenerator(input_width=3, label_width=1, shift=1,\n",
    "                     label_columns=['Close_normd'])\n",
    "w2"
   ]
  },
  {
   "cell_type": "code",
   "execution_count": 318,
   "metadata": {},
   "outputs": [
    {
     "name": "stdout",
     "output_type": "stream",
     "text": [
      "Inputs shape (batch, time, features): (32, 1, 6)\n",
      "Labels shape (batch, time, features): (32, 1, 1)\n"
     ]
    }
   ],
   "source": [
    "for example_inputs, example_labels in single_step_window.train.take(1):\n",
    "  print(f'Inputs shape (batch, time, features): {example_inputs.shape}')\n",
    "  print(f'Labels shape (batch, time, features): {example_labels.shape}')"
   ]
  },
  {
   "cell_type": "markdown",
   "metadata": {},
   "source": [
    "## Baseline, Dense, Convolutional and LSTM models\n",
    "Before building a trainable model it would be good to have a \n",
    "performance baseline as a point for comparison with the later more complicated models.\n",
    "This first task is to predict price one day in the future given the current value of all features."
   ]
  },
  {
   "cell_type": "code",
   "execution_count": 341,
   "metadata": {},
   "outputs": [],
   "source": [
    "val_performance = {}\n",
    "performance = {}"
   ]
  },
  {
   "cell_type": "code",
   "execution_count": 422,
   "metadata": {},
   "outputs": [],
   "source": [
    "#predicting one day ahead with one day input \n",
    "single_step_window = WindowGenerator(\n",
    "    input_width=1, label_width=1, shift=1,\n",
    "    label_columns=['Close_normd'])\n",
    "\n",
    "#predicting input_width days , one day ahead with input_width\n",
    "wide_window = WindowGenerator(\n",
    "    input_width = 3, label_width=1, shift=1,\n",
    "    label_columns=['Close_normd'])"
   ]
  },
  {
   "cell_type": "code",
   "execution_count": 412,
   "metadata": {},
   "outputs": [
    {
     "name": "stdout",
     "output_type": "stream",
     "text": [
      "2/2 [==============================] - 0s 5ms/step - loss: 0.0179 - mean_absolute_error: 0.1140\n"
     ]
    }
   ],
   "source": [
    "#predicting one day ahead with one day input \n",
    "single_step_window = WindowGenerator(\n",
    "    input_width=1, label_width=1, shift=1,\n",
    "    label_columns=['Close_normd'])\n",
    "\n",
    "#predicting input_width days , one day ahead with input_width\n",
    "wide_window = WindowGenerator(\n",
    "    input_width = 3, label_width=1, shift=1,\n",
    "    label_columns=['Close_normd'])\n",
    "\n",
    "\n",
    "\n",
    "baseline = Baseline(label_index=column_indices['Close_normd'])\n",
    "\n",
    "baseline.compile(loss=tf.losses.MeanSquaredError(),\n",
    "                 metrics=[tf.metrics.MeanAbsoluteError()])\n",
    "\n",
    "\n",
    "val_performance['Baseline'] = baseline.evaluate(wide_window.val)\n",
    "performance['Baseline'] = baseline.evaluate(wide_window.test, verbose=0)\n"
   ]
  },
  {
   "cell_type": "code",
   "execution_count": 368,
   "metadata": {},
   "outputs": [
    {
     "data": {
      "text/plain": [
       "Total window size: 4\n",
       "Input indices: [0 1 2]\n",
       "Label indices: [3]\n",
       "Label column name(s): ['Close_normd']"
      ]
     },
     "execution_count": 368,
     "metadata": {},
     "output_type": "execute_result"
    }
   ],
   "source": [
    "conv_window"
   ]
  },
  {
   "cell_type": "markdown",
   "metadata": {},
   "source": [
    "## Linear Model"
   ]
  },
  {
   "cell_type": "code",
   "execution_count": 429,
   "metadata": {},
   "outputs": [
    {
     "name": "stdout",
     "output_type": "stream",
     "text": [
      "Epoch 1/80\n",
      "8/8 [==============================] - 3s 387ms/step - loss: 0.3854 - mean_absolute_error: 0.5360 - val_loss: 0.6768 - val_mean_absolute_error: 0.7979\n",
      "Epoch 2/80\n",
      "8/8 [==============================] - 0s 35ms/step - loss: 0.3628 - mean_absolute_error: 0.5084 - val_loss: 0.6554 - val_mean_absolute_error: 0.7847\n",
      "Epoch 3/80\n",
      "8/8 [==============================] - 0s 30ms/step - loss: 0.3438 - mean_absolute_error: 0.4933 - val_loss: 0.6344 - val_mean_absolute_error: 0.7714\n",
      "Epoch 4/80\n",
      "8/8 [==============================] - 0s 32ms/step - loss: 0.3447 - mean_absolute_error: 0.4957 - val_loss: 0.6137 - val_mean_absolute_error: 0.7582\n",
      "Epoch 5/80\n",
      "8/8 [==============================] - 0s 28ms/step - loss: 0.3126 - mean_absolute_error: 0.4713 - val_loss: 0.5936 - val_mean_absolute_error: 0.7451\n",
      "Epoch 6/80\n",
      "8/8 [==============================] - 0s 28ms/step - loss: 0.3099 - mean_absolute_error: 0.4698 - val_loss: 0.5740 - val_mean_absolute_error: 0.7321\n",
      "Epoch 7/80\n",
      "8/8 [==============================] - 0s 30ms/step - loss: 0.2907 - mean_absolute_error: 0.4420 - val_loss: 0.5554 - val_mean_absolute_error: 0.7196\n",
      "Epoch 8/80\n",
      "8/8 [==============================] - 0s 29ms/step - loss: 0.2979 - mean_absolute_error: 0.4483 - val_loss: 0.5369 - val_mean_absolute_error: 0.7069\n",
      "Epoch 9/80\n",
      "8/8 [==============================] - 0s 28ms/step - loss: 0.2895 - mean_absolute_error: 0.4476 - val_loss: 0.5192 - val_mean_absolute_error: 0.6945\n",
      "Epoch 10/80\n",
      "8/8 [==============================] - 0s 26ms/step - loss: 0.2715 - mean_absolute_error: 0.4301 - val_loss: 0.5018 - val_mean_absolute_error: 0.6822\n",
      "Epoch 11/80\n",
      "8/8 [==============================] - 0s 24ms/step - loss: 0.2360 - mean_absolute_error: 0.3887 - val_loss: 0.4852 - val_mean_absolute_error: 0.6702\n",
      "Epoch 12/80\n",
      "8/8 [==============================] - 0s 26ms/step - loss: 0.2530 - mean_absolute_error: 0.4075 - val_loss: 0.4685 - val_mean_absolute_error: 0.6579\n",
      "Epoch 13/80\n",
      "8/8 [==============================] - 0s 23ms/step - loss: 0.2308 - mean_absolute_error: 0.3849 - val_loss: 0.4525 - val_mean_absolute_error: 0.6459\n",
      "Epoch 14/80\n",
      "8/8 [==============================] - 0s 24ms/step - loss: 0.2355 - mean_absolute_error: 0.3951 - val_loss: 0.4372 - val_mean_absolute_error: 0.6342\n",
      "Epoch 15/80\n",
      "8/8 [==============================] - 0s 23ms/step - loss: 0.2270 - mean_absolute_error: 0.3824 - val_loss: 0.4225 - val_mean_absolute_error: 0.6228\n",
      "Epoch 16/80\n",
      "8/8 [==============================] - 0s 23ms/step - loss: 0.2104 - mean_absolute_error: 0.3654 - val_loss: 0.4086 - val_mean_absolute_error: 0.6118\n",
      "Epoch 17/80\n",
      "8/8 [==============================] - 0s 26ms/step - loss: 0.2139 - mean_absolute_error: 0.3671 - val_loss: 0.3949 - val_mean_absolute_error: 0.6008\n",
      "Epoch 18/80\n",
      "8/8 [==============================] - 0s 25ms/step - loss: 0.2015 - mean_absolute_error: 0.3524 - val_loss: 0.3818 - val_mean_absolute_error: 0.5901\n",
      "Epoch 19/80\n",
      "8/8 [==============================] - 0s 24ms/step - loss: 0.2007 - mean_absolute_error: 0.3575 - val_loss: 0.3690 - val_mean_absolute_error: 0.5794\n",
      "Epoch 20/80\n",
      "8/8 [==============================] - 0s 25ms/step - loss: 0.1962 - mean_absolute_error: 0.3546 - val_loss: 0.3565 - val_mean_absolute_error: 0.5687\n",
      "Epoch 21/80\n",
      "8/8 [==============================] - 0s 24ms/step - loss: 0.1740 - mean_absolute_error: 0.3229 - val_loss: 0.3442 - val_mean_absolute_error: 0.5581\n",
      "Epoch 22/80\n",
      "8/8 [==============================] - 0s 24ms/step - loss: 0.1707 - mean_absolute_error: 0.3269 - val_loss: 0.3323 - val_mean_absolute_error: 0.5477\n",
      "Epoch 23/80\n",
      "8/8 [==============================] - 0s 23ms/step - loss: 0.1410 - mean_absolute_error: 0.2823 - val_loss: 0.3209 - val_mean_absolute_error: 0.5374\n",
      "Epoch 24/80\n",
      "8/8 [==============================] - 0s 24ms/step - loss: 0.1788 - mean_absolute_error: 0.3396 - val_loss: 0.3093 - val_mean_absolute_error: 0.5268\n",
      "Epoch 25/80\n",
      "8/8 [==============================] - 0s 23ms/step - loss: 0.1533 - mean_absolute_error: 0.3060 - val_loss: 0.2988 - val_mean_absolute_error: 0.5171\n",
      "Epoch 26/80\n",
      "8/8 [==============================] - 0s 24ms/step - loss: 0.1438 - mean_absolute_error: 0.2917 - val_loss: 0.2888 - val_mean_absolute_error: 0.5075\n",
      "Epoch 27/80\n",
      "8/8 [==============================] - 0s 25ms/step - loss: 0.1533 - mean_absolute_error: 0.3077 - val_loss: 0.2788 - val_mean_absolute_error: 0.4978\n",
      "Epoch 28/80\n",
      "8/8 [==============================] - 0s 24ms/step - loss: 0.1370 - mean_absolute_error: 0.2879 - val_loss: 0.2692 - val_mean_absolute_error: 0.4884\n",
      "Epoch 29/80\n",
      "8/8 [==============================] - 0s 27ms/step - loss: 0.1243 - mean_absolute_error: 0.2729 - val_loss: 0.2601 - val_mean_absolute_error: 0.4793\n",
      "Epoch 30/80\n",
      "8/8 [==============================] - 0s 24ms/step - loss: 0.1385 - mean_absolute_error: 0.2930 - val_loss: 0.2507 - val_mean_absolute_error: 0.4697\n",
      "Epoch 31/80\n",
      "8/8 [==============================] - 0s 24ms/step - loss: 0.1230 - mean_absolute_error: 0.2729 - val_loss: 0.2423 - val_mean_absolute_error: 0.4609\n",
      "Epoch 32/80\n",
      "8/8 [==============================] - 0s 23ms/step - loss: 0.1340 - mean_absolute_error: 0.2911 - val_loss: 0.2339 - val_mean_absolute_error: 0.4519\n",
      "Epoch 33/80\n",
      "8/8 [==============================] - 0s 25ms/step - loss: 0.1247 - mean_absolute_error: 0.2815 - val_loss: 0.2259 - val_mean_absolute_error: 0.4433\n",
      "Epoch 34/80\n",
      "8/8 [==============================] - 0s 25ms/step - loss: 0.1135 - mean_absolute_error: 0.2616 - val_loss: 0.2184 - val_mean_absolute_error: 0.4351\n",
      "Epoch 35/80\n",
      "8/8 [==============================] - 0s 25ms/step - loss: 0.1149 - mean_absolute_error: 0.2669 - val_loss: 0.2112 - val_mean_absolute_error: 0.4270\n",
      "Epoch 36/80\n",
      "8/8 [==============================] - 0s 24ms/step - loss: 0.1061 - mean_absolute_error: 0.2541 - val_loss: 0.2043 - val_mean_absolute_error: 0.4191\n",
      "Epoch 37/80\n",
      "8/8 [==============================] - 0s 24ms/step - loss: 0.1036 - mean_absolute_error: 0.2521 - val_loss: 0.1974 - val_mean_absolute_error: 0.4110\n",
      "Epoch 38/80\n",
      "8/8 [==============================] - 0s 25ms/step - loss: 0.0965 - mean_absolute_error: 0.2428 - val_loss: 0.1906 - val_mean_absolute_error: 0.4030\n",
      "Epoch 39/80\n",
      "8/8 [==============================] - 0s 21ms/step - loss: 0.0907 - mean_absolute_error: 0.2300 - val_loss: 0.1843 - val_mean_absolute_error: 0.3953\n",
      "Epoch 40/80\n",
      "8/8 [==============================] - 0s 20ms/step - loss: 0.0937 - mean_absolute_error: 0.2434 - val_loss: 0.1782 - val_mean_absolute_error: 0.3878\n",
      "Epoch 41/80\n",
      "8/8 [==============================] - 0s 20ms/step - loss: 0.0936 - mean_absolute_error: 0.2464 - val_loss: 0.1724 - val_mean_absolute_error: 0.3805\n",
      "Epoch 42/80\n",
      "8/8 [==============================] - 0s 17ms/step - loss: 0.0851 - mean_absolute_error: 0.2304 - val_loss: 0.1669 - val_mean_absolute_error: 0.3735\n",
      "Epoch 43/80\n",
      "8/8 [==============================] - 0s 22ms/step - loss: 0.0865 - mean_absolute_error: 0.2351 - val_loss: 0.1613 - val_mean_absolute_error: 0.3662\n",
      "Epoch 44/80\n",
      "8/8 [==============================] - 0s 19ms/step - loss: 0.0826 - mean_absolute_error: 0.2308 - val_loss: 0.1561 - val_mean_absolute_error: 0.3594\n",
      "Epoch 45/80\n",
      "8/8 [==============================] - 0s 25ms/step - loss: 0.0783 - mean_absolute_error: 0.2231 - val_loss: 0.1509 - val_mean_absolute_error: 0.3526\n",
      "Epoch 46/80\n",
      "8/8 [==============================] - 0s 25ms/step - loss: 0.0755 - mean_absolute_error: 0.2223 - val_loss: 0.1462 - val_mean_absolute_error: 0.3462\n",
      "Epoch 47/80\n",
      "8/8 [==============================] - 0s 25ms/step - loss: 0.0821 - mean_absolute_error: 0.2344 - val_loss: 0.1414 - val_mean_absolute_error: 0.3397\n",
      "Epoch 48/80\n",
      "8/8 [==============================] - 0s 24ms/step - loss: 0.0735 - mean_absolute_error: 0.2220 - val_loss: 0.1368 - val_mean_absolute_error: 0.3334\n",
      "Epoch 49/80\n",
      "8/8 [==============================] - 0s 23ms/step - loss: 0.0699 - mean_absolute_error: 0.2174 - val_loss: 0.1326 - val_mean_absolute_error: 0.3273\n",
      "Epoch 50/80\n",
      "8/8 [==============================] - 0s 23ms/step - loss: 0.0744 - mean_absolute_error: 0.2240 - val_loss: 0.1284 - val_mean_absolute_error: 0.3213\n",
      "Epoch 51/80\n"
     ]
    },
    {
     "name": "stdout",
     "output_type": "stream",
     "text": [
      "8/8 [==============================] - 0s 26ms/step - loss: 0.0704 - mean_absolute_error: 0.2223 - val_loss: 0.1246 - val_mean_absolute_error: 0.3157\n",
      "Epoch 52/80\n",
      "8/8 [==============================] - 0s 28ms/step - loss: 0.0667 - mean_absolute_error: 0.2138 - val_loss: 0.1207 - val_mean_absolute_error: 0.3099\n",
      "Epoch 53/80\n",
      "8/8 [==============================] - 0s 24ms/step - loss: 0.0705 - mean_absolute_error: 0.2252 - val_loss: 0.1170 - val_mean_absolute_error: 0.3042\n",
      "Epoch 54/80\n",
      "8/8 [==============================] - 0s 23ms/step - loss: 0.0636 - mean_absolute_error: 0.2088 - val_loss: 0.1136 - val_mean_absolute_error: 0.2989\n",
      "Epoch 55/80\n",
      "8/8 [==============================] - 0s 23ms/step - loss: 0.0637 - mean_absolute_error: 0.2143 - val_loss: 0.1101 - val_mean_absolute_error: 0.2934\n",
      "Epoch 56/80\n",
      "8/8 [==============================] - 0s 25ms/step - loss: 0.0626 - mean_absolute_error: 0.2118 - val_loss: 0.1068 - val_mean_absolute_error: 0.2882\n",
      "Epoch 57/80\n",
      "8/8 [==============================] - 0s 22ms/step - loss: 0.0647 - mean_absolute_error: 0.2175 - val_loss: 0.1036 - val_mean_absolute_error: 0.2831\n",
      "Epoch 58/80\n",
      "8/8 [==============================] - 0s 28ms/step - loss: 0.0627 - mean_absolute_error: 0.2162 - val_loss: 0.1006 - val_mean_absolute_error: 0.2782\n",
      "Epoch 59/80\n",
      "8/8 [==============================] - 0s 25ms/step - loss: 0.0564 - mean_absolute_error: 0.2072 - val_loss: 0.0977 - val_mean_absolute_error: 0.2735\n",
      "Epoch 60/80\n",
      "8/8 [==============================] - 0s 25ms/step - loss: 0.0624 - mean_absolute_error: 0.2145 - val_loss: 0.0950 - val_mean_absolute_error: 0.2691\n",
      "Epoch 61/80\n",
      "8/8 [==============================] - 0s 21ms/step - loss: 0.0579 - mean_absolute_error: 0.2088 - val_loss: 0.0924 - val_mean_absolute_error: 0.2649\n",
      "Epoch 62/80\n",
      "8/8 [==============================] - 0s 26ms/step - loss: 0.0553 - mean_absolute_error: 0.2048 - val_loss: 0.0900 - val_mean_absolute_error: 0.2610\n",
      "Epoch 63/80\n",
      "8/8 [==============================] - 0s 25ms/step - loss: 0.0552 - mean_absolute_error: 0.2047 - val_loss: 0.0877 - val_mean_absolute_error: 0.2573\n",
      "Epoch 64/80\n",
      "8/8 [==============================] - 0s 25ms/step - loss: 0.0584 - mean_absolute_error: 0.2100 - val_loss: 0.0853 - val_mean_absolute_error: 0.2534\n",
      "Epoch 65/80\n",
      "8/8 [==============================] - 0s 23ms/step - loss: 0.0551 - mean_absolute_error: 0.2043 - val_loss: 0.0832 - val_mean_absolute_error: 0.2499\n",
      "Epoch 66/80\n",
      "8/8 [==============================] - 0s 23ms/step - loss: 0.0539 - mean_absolute_error: 0.2038 - val_loss: 0.0811 - val_mean_absolute_error: 0.2464\n",
      "Epoch 67/80\n",
      "8/8 [==============================] - 0s 24ms/step - loss: 0.0542 - mean_absolute_error: 0.2044 - val_loss: 0.0794 - val_mean_absolute_error: 0.2434\n",
      "Epoch 68/80\n",
      "8/8 [==============================] - 0s 22ms/step - loss: 0.0518 - mean_absolute_error: 0.2022 - val_loss: 0.0775 - val_mean_absolute_error: 0.2402\n",
      "Epoch 69/80\n",
      "8/8 [==============================] - 0s 24ms/step - loss: 0.0543 - mean_absolute_error: 0.2066 - val_loss: 0.0756 - val_mean_absolute_error: 0.2370\n",
      "Epoch 70/80\n",
      "8/8 [==============================] - 0s 24ms/step - loss: 0.0526 - mean_absolute_error: 0.2046 - val_loss: 0.0739 - val_mean_absolute_error: 0.2339\n",
      "Epoch 71/80\n",
      "8/8 [==============================] - 0s 23ms/step - loss: 0.0501 - mean_absolute_error: 0.2001 - val_loss: 0.0722 - val_mean_absolute_error: 0.2309\n",
      "Epoch 72/80\n",
      "8/8 [==============================] - 0s 21ms/step - loss: 0.0497 - mean_absolute_error: 0.1985 - val_loss: 0.0707 - val_mean_absolute_error: 0.2283\n",
      "Epoch 73/80\n",
      "8/8 [==============================] - 0s 27ms/step - loss: 0.0480 - mean_absolute_error: 0.1964 - val_loss: 0.0691 - val_mean_absolute_error: 0.2254\n",
      "Epoch 74/80\n",
      "8/8 [==============================] - 0s 23ms/step - loss: 0.0501 - mean_absolute_error: 0.1992 - val_loss: 0.0676 - val_mean_absolute_error: 0.2227\n",
      "Epoch 75/80\n",
      "8/8 [==============================] - 0s 22ms/step - loss: 0.0489 - mean_absolute_error: 0.1961 - val_loss: 0.0663 - val_mean_absolute_error: 0.2201\n",
      "Epoch 76/80\n",
      "8/8 [==============================] - 0s 27ms/step - loss: 0.0500 - mean_absolute_error: 0.2004 - val_loss: 0.0647 - val_mean_absolute_error: 0.2172\n",
      "Epoch 77/80\n",
      "8/8 [==============================] - 0s 23ms/step - loss: 0.0435 - mean_absolute_error: 0.1851 - val_loss: 0.0634 - val_mean_absolute_error: 0.2147\n",
      "Epoch 78/80\n",
      "8/8 [==============================] - 0s 22ms/step - loss: 0.0497 - mean_absolute_error: 0.1998 - val_loss: 0.0620 - val_mean_absolute_error: 0.2120\n",
      "Epoch 79/80\n",
      "8/8 [==============================] - 0s 24ms/step - loss: 0.0482 - mean_absolute_error: 0.1963 - val_loss: 0.0607 - val_mean_absolute_error: 0.2095\n",
      "Epoch 80/80\n",
      "8/8 [==============================] - 0s 22ms/step - loss: 0.0443 - mean_absolute_error: 0.1873 - val_loss: 0.0596 - val_mean_absolute_error: 0.2073\n",
      "3/3 [==============================] - 0s 4ms/step - loss: 0.0596 - mean_absolute_error: 0.2073\n"
     ]
    }
   ],
   "source": [
    "linear = tf.keras.Sequential([\n",
    "    tf.keras.layers.Dense(units=1)\n",
    "])\n",
    "\n",
    "MAX_EPOCHS = 80\n",
    "\n",
    "def compile_and_fit(model, window, patience=2):\n",
    "    early_stopping = tf.keras.callbacks.EarlyStopping(monitor='val_loss',\n",
    "                                                    patience=patience,\n",
    "                                                    mode='min')\n",
    "\n",
    "    model.compile(loss=tf.losses.MeanSquaredError(),\n",
    "                optimizer=tf.optimizers.Adam(),\n",
    "                metrics=[tf.metrics.MeanAbsoluteError()])\n",
    "\n",
    "    history = model.fit(window.train, epochs=MAX_EPOCHS,\n",
    "                      validation_data=window.val,\n",
    "                      callbacks=[early_stopping])\n",
    "    return history\n",
    "\n",
    "history = compile_and_fit(linear, wide_window)\n",
    "#single_step_window\n",
    "val_performance['Linear'] = linear.evaluate(wide_window.val)\n",
    "performance['Linear'] = linear.evaluate(wide_window.test, verbose=0)\n"
   ]
  },
  {
   "cell_type": "code",
   "execution_count": 424,
   "metadata": {},
   "outputs": [
    {
     "data": {
      "image/png": "[encoded data removed]",
      "text/plain": [
       "<Figure size 432x288 with 1 Axes>"
      ]
     },
     "metadata": {
      "needs_background": "light"
     },
     "output_type": "display_data"
    }
   ],
   "source": [
    "#importance of eache feature baed on the weights of the linear model\n",
    "\n",
    "plt.bar(x = range(len(train_df.columns)),\n",
    "        height=linear.layers[0].kernel[:,0].numpy())\n",
    "axis = plt.gca()\n",
    "axis.set_xticks(range(len(train_df.columns)))\n",
    "_ = axis.set_xticklabels(train_df.columns, rotation=90)"
   ]
  },
  {
   "cell_type": "markdown",
   "metadata": {},
   "source": [
    "## Dense Model"
   ]
  },
  {
   "cell_type": "code",
   "execution_count": 425,
   "metadata": {},
   "outputs": [
    {
     "name": "stdout",
     "output_type": "stream",
     "text": [
      "Epoch 1/50\n",
      "8/8 [==============================] - 1s 52ms/step - loss: 0.2317 - mean_absolute_error: 0.4078 - val_loss: 0.2466 - val_mean_absolute_error: 0.4744\n",
      "Epoch 2/50\n",
      "8/8 [==============================] - 0s 24ms/step - loss: 0.1057 - mean_absolute_error: 0.2579 - val_loss: 0.0750 - val_mean_absolute_error: 0.2503\n",
      "Epoch 3/50\n",
      "8/8 [==============================] - 0s 24ms/step - loss: 0.0277 - mean_absolute_error: 0.1287 - val_loss: 0.0109 - val_mean_absolute_error: 0.0880\n",
      "Epoch 4/50\n",
      "8/8 [==============================] - 0s 21ms/step - loss: 0.0093 - mean_absolute_error: 0.0813 - val_loss: 0.0059 - val_mean_absolute_error: 0.0614\n",
      "Epoch 5/50\n",
      "8/8 [==============================] - 0s 23ms/step - loss: 0.0078 - mean_absolute_error: 0.0728 - val_loss: 0.0061 - val_mean_absolute_error: 0.0673\n",
      "Epoch 6/50\n",
      "8/8 [==============================] - 0s 23ms/step - loss: 0.0053 - mean_absolute_error: 0.0610 - val_loss: 0.0075 - val_mean_absolute_error: 0.0760\n",
      "3/3 [==============================] - 0s 3ms/step - loss: 0.0124 - mean_absolute_error: 0.0928\n"
     ]
    }
   ],
   "source": [
    "dense = tf.keras.Sequential([\n",
    "    tf.keras.layers.Dense(units=64, activation='relu'),\n",
    "    tf.keras.layers.Dense(units=64, activation='relu'),\n",
    "    tf.keras.layers.Dense(units=1)\n",
    "])\n",
    "\n",
    "history = compile_and_fit(dense, single_step_window)\n",
    "\n",
    "val_performance['Dense'] = dense.evaluate(wide_window.val)\n",
    "performance['Dense'] = dense.evaluate(wide_window.test, verbose=0)"
   ]
  },
  {
   "cell_type": "code",
   "execution_count": 387,
   "metadata": {},
   "outputs": [
    {
     "data": {
      "text/plain": [
       "Total window size: 4\n",
       "Input indices: [0 1 2]\n",
       "Label indices: [3]\n",
       "Label column name(s): ['Close_normd']"
      ]
     },
     "execution_count": 387,
     "metadata": {},
     "output_type": "execute_result"
    }
   ],
   "source": [
    "# Feeding multiple days (3) as an input for one day prediction ahead\n",
    "\n",
    "CONV_WIDTH = 3\n",
    "conv_window = WindowGenerator(\n",
    "    input_width=CONV_WIDTH,\n",
    "    label_width=1,\n",
    "    shift=1,\n",
    "    label_columns=['Close_normd'])\n",
    "\n",
    "conv_window"
   ]
  },
  {
   "cell_type": "code",
   "execution_count": 377,
   "metadata": {},
   "outputs": [],
   "source": [
    "multi_step_dense = tf.keras.Sequential([\n",
    "    # Shape: (time, features) => (time*features)\n",
    "    tf.keras.layers.Flatten(),\n",
    "    tf.keras.layers.Dense(units=32, activation='relu'),\n",
    "    tf.keras.layers.Dense(units=32, activation='relu'),\n",
    "    tf.keras.layers.Dense(units=1),\n",
    "    # Add back the time dimension.\n",
    "    # Shape: (outputs) => (1, outputs)\n",
    "    tf.keras.layers.Reshape([1, -1]),\n",
    "])"
   ]
  },
  {
   "cell_type": "code",
   "execution_count": 378,
   "metadata": {},
   "outputs": [
    {
     "name": "stdout",
     "output_type": "stream",
     "text": [
      "Epoch 1/50\n",
      "8/8 [==============================] - 1s 38ms/step - loss: 0.1110 - mean_absolute_error: 0.2785 - val_loss: 0.0612 - val_mean_absolute_error: 0.2221\n",
      "Epoch 2/50\n",
      "8/8 [==============================] - 0s 23ms/step - loss: 0.0276 - mean_absolute_error: 0.1251 - val_loss: 0.0096 - val_mean_absolute_error: 0.0820\n",
      "Epoch 3/50\n",
      "8/8 [==============================] - 0s 22ms/step - loss: 0.0084 - mean_absolute_error: 0.0762 - val_loss: 0.0153 - val_mean_absolute_error: 0.1030\n",
      "Epoch 4/50\n",
      "8/8 [==============================] - 0s 22ms/step - loss: 0.0104 - mean_absolute_error: 0.0871 - val_loss: 0.0121 - val_mean_absolute_error: 0.0907\n"
     ]
    }
   ],
   "source": [
    "history = compile_and_fit(multi_step_dense, conv_window)\n"
   ]
  },
  {
   "cell_type": "code",
   "execution_count": null,
   "metadata": {},
   "outputs": [],
   "source": []
  },
  {
   "cell_type": "markdown",
   "metadata": {},
   "source": [
    "## 1D Convolution model\n",
    "\n",
    "A convolution layer takes multiple time steps as input to each prediction."
   ]
  },
  {
   "cell_type": "code",
   "execution_count": 402,
   "metadata": {},
   "outputs": [
    {
     "data": {
      "text/plain": [
       "Total window size: 4\n",
       "Input indices: [0 1 2]\n",
       "Label indices: [3]\n",
       "Label column name(s): ['Close_normd']"
      ]
     },
     "execution_count": 402,
     "metadata": {},
     "output_type": "execute_result"
    }
   ],
   "source": [
    "# Feeding multiple days (3) as an input for one day prediction ahead\n",
    "\n",
    "CONV_WIDTH = 3\n",
    "conv_window = WindowGenerator(\n",
    "    input_width=CONV_WIDTH,\n",
    "    label_width=1,\n",
    "    shift=1,\n",
    "    label_columns=['Close_normd'])\n",
    "\n",
    "conv_window"
   ]
  },
  {
   "cell_type": "code",
   "execution_count": 403,
   "metadata": {},
   "outputs": [],
   "source": [
    "MAX_EPOCHS = 100\n",
    "conv_model = tf.keras.Sequential([\n",
    "    tf.keras.layers.Conv1D(filters=32,\n",
    "                           kernel_size=(CONV_WIDTH,),\n",
    "                           activation='relu'),\n",
    "    tf.keras.layers.Dense(units=32, activation='relu'),\n",
    "    tf.keras.layers.Dense(units=1),\n",
    "])"
   ]
  },
  {
   "cell_type": "code",
   "execution_count": 404,
   "metadata": {},
   "outputs": [
    {
     "name": "stdout",
     "output_type": "stream",
     "text": [
      "Epoch 1/100\n",
      "8/8 [==============================] - 1s 43ms/step - loss: 0.1495 - mean_absolute_error: 0.3287 - val_loss: 0.1508 - val_mean_absolute_error: 0.3684\n",
      "Epoch 2/100\n",
      "8/8 [==============================] - 0s 26ms/step - loss: 0.0647 - mean_absolute_error: 0.2030 - val_loss: 0.0621 - val_mean_absolute_error: 0.2273\n",
      "Epoch 3/100\n",
      "8/8 [==============================] - 0s 23ms/step - loss: 0.0287 - mean_absolute_error: 0.1319 - val_loss: 0.0194 - val_mean_absolute_error: 0.1182\n",
      "Epoch 4/100\n",
      "8/8 [==============================] - 0s 23ms/step - loss: 0.0099 - mean_absolute_error: 0.0836 - val_loss: 0.0074 - val_mean_absolute_error: 0.0735\n",
      "Epoch 5/100\n",
      "8/8 [==============================] - 0s 23ms/step - loss: 0.0084 - mean_absolute_error: 0.0767 - val_loss: 0.0078 - val_mean_absolute_error: 0.0733\n",
      "Epoch 6/100\n",
      "8/8 [==============================] - 0s 24ms/step - loss: 0.0076 - mean_absolute_error: 0.0727 - val_loss: 0.0071 - val_mean_absolute_error: 0.0710\n",
      "Epoch 7/100\n",
      "8/8 [==============================] - 0s 23ms/step - loss: 0.0062 - mean_absolute_error: 0.0663 - val_loss: 0.0071 - val_mean_absolute_error: 0.0718\n",
      "Epoch 8/100\n",
      "8/8 [==============================] - 0s 23ms/step - loss: 0.0049 - mean_absolute_error: 0.0597 - val_loss: 0.0072 - val_mean_absolute_error: 0.0718\n",
      "3/3 [==============================] - 0s 4ms/step - loss: 0.0072 - mean_absolute_error: 0.0718\n"
     ]
    }
   ],
   "source": [
    "history = compile_and_fit(conv_model, conv_window)\n",
    "\n",
    "val_performance['Conv'] = conv_model.evaluate(conv_window.val)\n",
    "performance['Conv'] = conv_model.evaluate(conv_window.test, verbose=0)"
   ]
  },
  {
   "cell_type": "code",
   "execution_count": 274,
   "metadata": {},
   "outputs": [
    {
     "data": {
      "text/plain": [
       "Total window size: 27\n",
       "Input indices: [ 0  1  2  3  4  5  6  7  8  9 10 11 12 13 14 15 16 17 18 19 20 21 22 23\n",
       " 24 25]\n",
       "Label indices: [ 3  4  5  6  7  8  9 10 11 12 13 14 15 16 17 18 19 20 21 22 23 24 25 26]\n",
       "Label column name(s): ['Close_normed']"
      ]
     },
     "execution_count": 274,
     "metadata": {},
     "output_type": "execute_result"
    }
   ],
   "source": [
    "#The convolutional layer is applied to a sliding window of inputs\n",
    "# Note the 3 input time steps before the first prediction. \n",
    "#Every prediction here is based on the 3 preceding timesteps\n",
    "\n",
    "LABEL_WIDTH = 24\n",
    "INPUT_WIDTH = LABEL_WIDTH + (CONV_WIDTH - 1)\n",
    "wide_conv_window = WindowGenerator(\n",
    "    input_width=INPUT_WIDTH,\n",
    "    label_width=LABEL_WIDTH,\n",
    "    shift=1,\n",
    "    label_columns=['Close_normed'])\n",
    "\n",
    "wide_conv_window"
   ]
  },
  {
   "cell_type": "code",
   "execution_count": 287,
   "metadata": {},
   "outputs": [
    {
     "data": {
      "text/plain": [
       "Total window size: 6\n",
       "Input indices: [0 1 2 3 4]\n",
       "Label indices: [1 2 3 4 5]\n",
       "Label column name(s): ['Close_normd']"
      ]
     },
     "execution_count": 287,
     "metadata": {},
     "output_type": "execute_result"
    }
   ],
   "source": [
    "wide_window"
   ]
  },
  {
   "cell_type": "markdown",
   "metadata": {},
   "source": [
    "## Recurrent Net\n",
    "\n",
    "RNNs process a time series step-by-step, maintaining an internal state from time-step to time-step."
   ]
  },
  {
   "cell_type": "code",
   "execution_count": 406,
   "metadata": {},
   "outputs": [
    {
     "name": "stdout",
     "output_type": "stream",
     "text": [
      "Epoch 1/200\n",
      "8/8 [==============================] - 2s 85ms/step - loss: 0.3033 - mean_absolute_error: 0.4728 - val_loss: 0.4489 - val_mean_absolute_error: 0.6459\n",
      "Epoch 2/200\n",
      "8/8 [==============================] - 0s 26ms/step - loss: 0.2273 - mean_absolute_error: 0.3948 - val_loss: 0.3672 - val_mean_absolute_error: 0.5803\n",
      "Epoch 3/200\n",
      "8/8 [==============================] - 0s 27ms/step - loss: 0.1818 - mean_absolute_error: 0.3416 - val_loss: 0.2951 - val_mean_absolute_error: 0.5144\n",
      "Epoch 4/200\n",
      "8/8 [==============================] - 0s 29ms/step - loss: 0.1402 - mean_absolute_error: 0.2967 - val_loss: 0.2329 - val_mean_absolute_error: 0.4479\n",
      "Epoch 5/200\n",
      "8/8 [==============================] - 0s 28ms/step - loss: 0.1025 - mean_absolute_error: 0.2475 - val_loss: 0.1821 - val_mean_absolute_error: 0.3830\n",
      "Epoch 6/200\n",
      "8/8 [==============================] - 0s 25ms/step - loss: 0.0869 - mean_absolute_error: 0.2229 - val_loss: 0.1420 - val_mean_absolute_error: 0.3224\n",
      "Epoch 7/200\n",
      "8/8 [==============================] - 0s 24ms/step - loss: 0.0728 - mean_absolute_error: 0.2070 - val_loss: 0.1147 - val_mean_absolute_error: 0.2760\n",
      "Epoch 8/200\n",
      "8/8 [==============================] - 0s 26ms/step - loss: 0.0632 - mean_absolute_error: 0.1952 - val_loss: 0.0997 - val_mean_absolute_error: 0.2530\n",
      "Epoch 9/200\n",
      "8/8 [==============================] - 0s 23ms/step - loss: 0.0533 - mean_absolute_error: 0.1817 - val_loss: 0.0928 - val_mean_absolute_error: 0.2425\n",
      "Epoch 10/200\n",
      "8/8 [==============================] - 0s 25ms/step - loss: 0.0585 - mean_absolute_error: 0.1914 - val_loss: 0.0885 - val_mean_absolute_error: 0.2359\n",
      "Epoch 11/200\n",
      "8/8 [==============================] - 0s 25ms/step - loss: 0.0517 - mean_absolute_error: 0.1822 - val_loss: 0.0853 - val_mean_absolute_error: 0.2311\n",
      "Epoch 12/200\n",
      "8/8 [==============================] - 0s 23ms/step - loss: 0.0533 - mean_absolute_error: 0.1814 - val_loss: 0.0824 - val_mean_absolute_error: 0.2266\n",
      "Epoch 13/200\n",
      "8/8 [==============================] - 0s 24ms/step - loss: 0.0506 - mean_absolute_error: 0.1752 - val_loss: 0.0798 - val_mean_absolute_error: 0.2228\n",
      "Epoch 14/200\n",
      "8/8 [==============================] - 0s 25ms/step - loss: 0.0468 - mean_absolute_error: 0.1688 - val_loss: 0.0771 - val_mean_absolute_error: 0.2189\n",
      "Epoch 15/200\n",
      "8/8 [==============================] - 0s 24ms/step - loss: 0.0449 - mean_absolute_error: 0.1657 - val_loss: 0.0738 - val_mean_absolute_error: 0.2135\n",
      "Epoch 16/200\n",
      "8/8 [==============================] - 0s 24ms/step - loss: 0.0440 - mean_absolute_error: 0.1627 - val_loss: 0.0702 - val_mean_absolute_error: 0.2075\n",
      "Epoch 17/200\n",
      "8/8 [==============================] - 0s 24ms/step - loss: 0.0385 - mean_absolute_error: 0.1535 - val_loss: 0.0663 - val_mean_absolute_error: 0.2009\n",
      "Epoch 18/200\n",
      "8/8 [==============================] - 0s 24ms/step - loss: 0.0401 - mean_absolute_error: 0.1549 - val_loss: 0.0625 - val_mean_absolute_error: 0.1944\n",
      "Epoch 19/200\n",
      "8/8 [==============================] - 0s 25ms/step - loss: 0.0370 - mean_absolute_error: 0.1501 - val_loss: 0.0588 - val_mean_absolute_error: 0.1878\n",
      "Epoch 20/200\n",
      "8/8 [==============================] - 0s 23ms/step - loss: 0.0362 - mean_absolute_error: 0.1469 - val_loss: 0.0553 - val_mean_absolute_error: 0.1815\n",
      "Epoch 21/200\n",
      "8/8 [==============================] - 0s 26ms/step - loss: 0.0320 - mean_absolute_error: 0.1378 - val_loss: 0.0520 - val_mean_absolute_error: 0.1755\n",
      "Epoch 22/200\n",
      "8/8 [==============================] - 0s 24ms/step - loss: 0.0325 - mean_absolute_error: 0.1378 - val_loss: 0.0483 - val_mean_absolute_error: 0.1683\n",
      "Epoch 23/200\n",
      "8/8 [==============================] - 0s 24ms/step - loss: 0.0265 - mean_absolute_error: 0.1245 - val_loss: 0.0456 - val_mean_absolute_error: 0.1632\n",
      "Epoch 24/200\n",
      "8/8 [==============================] - 0s 26ms/step - loss: 0.0273 - mean_absolute_error: 0.1256 - val_loss: 0.0418 - val_mean_absolute_error: 0.1550\n",
      "Epoch 25/200\n",
      "8/8 [==============================] - 0s 26ms/step - loss: 0.0268 - mean_absolute_error: 0.1250 - val_loss: 0.0384 - val_mean_absolute_error: 0.1476\n",
      "Epoch 26/200\n",
      "8/8 [==============================] - 0s 31ms/step - loss: 0.0250 - mean_absolute_error: 0.1207 - val_loss: 0.0357 - val_mean_absolute_error: 0.1418\n",
      "Epoch 27/200\n",
      "8/8 [==============================] - 0s 30ms/step - loss: 0.0210 - mean_absolute_error: 0.1102 - val_loss: 0.0332 - val_mean_absolute_error: 0.1362\n",
      "Epoch 28/200\n",
      "8/8 [==============================] - 0s 28ms/step - loss: 0.0197 - mean_absolute_error: 0.1053 - val_loss: 0.0305 - val_mean_absolute_error: 0.1307\n",
      "Epoch 29/200\n",
      "8/8 [==============================] - 0s 28ms/step - loss: 0.0183 - mean_absolute_error: 0.1014 - val_loss: 0.0280 - val_mean_absolute_error: 0.1262\n",
      "Epoch 30/200\n",
      "8/8 [==============================] - 0s 29ms/step - loss: 0.0184 - mean_absolute_error: 0.1005 - val_loss: 0.0261 - val_mean_absolute_error: 0.1223\n",
      "Epoch 31/200\n",
      "8/8 [==============================] - 0s 27ms/step - loss: 0.0170 - mean_absolute_error: 0.0976 - val_loss: 0.0245 - val_mean_absolute_error: 0.1188\n",
      "Epoch 32/200\n",
      "8/8 [==============================] - 0s 24ms/step - loss: 0.0154 - mean_absolute_error: 0.0924 - val_loss: 0.0232 - val_mean_absolute_error: 0.1163\n",
      "Epoch 33/200\n",
      "8/8 [==============================] - 0s 27ms/step - loss: 0.0149 - mean_absolute_error: 0.0906 - val_loss: 0.0220 - val_mean_absolute_error: 0.1146\n",
      "Epoch 34/200\n",
      "8/8 [==============================] - 0s 25ms/step - loss: 0.0146 - mean_absolute_error: 0.0898 - val_loss: 0.0210 - val_mean_absolute_error: 0.1122\n",
      "Epoch 35/200\n",
      "8/8 [==============================] - 0s 23ms/step - loss: 0.0134 - mean_absolute_error: 0.0877 - val_loss: 0.0201 - val_mean_absolute_error: 0.1103\n",
      "Epoch 36/200\n",
      "8/8 [==============================] - 0s 25ms/step - loss: 0.0137 - mean_absolute_error: 0.0889 - val_loss: 0.0194 - val_mean_absolute_error: 0.1090\n",
      "Epoch 37/200\n",
      "8/8 [==============================] - 0s 25ms/step - loss: 0.0138 - mean_absolute_error: 0.0897 - val_loss: 0.0187 - val_mean_absolute_error: 0.1078\n",
      "Epoch 38/200\n",
      "8/8 [==============================] - 0s 28ms/step - loss: 0.0134 - mean_absolute_error: 0.0877 - val_loss: 0.0181 - val_mean_absolute_error: 0.1065\n",
      "Epoch 39/200\n",
      "8/8 [==============================] - 0s 34ms/step - loss: 0.0122 - mean_absolute_error: 0.0853 - val_loss: 0.0176 - val_mean_absolute_error: 0.1052\n",
      "Epoch 40/200\n",
      "8/8 [==============================] - 0s 20ms/step - loss: 0.0120 - mean_absolute_error: 0.0839 - val_loss: 0.0171 - val_mean_absolute_error: 0.1042\n",
      "Epoch 41/200\n",
      "8/8 [==============================] - 0s 32ms/step - loss: 0.0116 - mean_absolute_error: 0.0830 - val_loss: 0.0165 - val_mean_absolute_error: 0.1026\n",
      "Epoch 42/200\n",
      "8/8 [==============================] - 0s 28ms/step - loss: 0.0112 - mean_absolute_error: 0.0829 - val_loss: 0.0157 - val_mean_absolute_error: 0.1001\n",
      "Epoch 43/200\n",
      "8/8 [==============================] - 0s 27ms/step - loss: 0.0105 - mean_absolute_error: 0.0797 - val_loss: 0.0151 - val_mean_absolute_error: 0.0987\n",
      "Epoch 44/200\n",
      "8/8 [==============================] - 0s 22ms/step - loss: 0.0107 - mean_absolute_error: 0.0795 - val_loss: 0.0146 - val_mean_absolute_error: 0.0969\n",
      "Epoch 45/200\n",
      "8/8 [==============================] - 0s 23ms/step - loss: 0.0099 - mean_absolute_error: 0.0769 - val_loss: 0.0142 - val_mean_absolute_error: 0.0961\n",
      "Epoch 46/200\n",
      "8/8 [==============================] - 0s 27ms/step - loss: 0.0100 - mean_absolute_error: 0.0772 - val_loss: 0.0137 - val_mean_absolute_error: 0.0944\n",
      "Epoch 47/200\n",
      "8/8 [==============================] - 0s 37ms/step - loss: 0.0092 - mean_absolute_error: 0.0752 - val_loss: 0.0133 - val_mean_absolute_error: 0.0930\n",
      "Epoch 48/200\n",
      "8/8 [==============================] - 0s 46ms/step - loss: 0.0097 - mean_absolute_error: 0.0755 - val_loss: 0.0130 - val_mean_absolute_error: 0.0920\n",
      "Epoch 49/200\n",
      "8/8 [==============================] - 0s 31ms/step - loss: 0.0092 - mean_absolute_error: 0.0747 - val_loss: 0.0125 - val_mean_absolute_error: 0.0905\n",
      "Epoch 50/200\n",
      "8/8 [==============================] - 0s 17ms/step - loss: 0.0092 - mean_absolute_error: 0.0751 - val_loss: 0.0120 - val_mean_absolute_error: 0.0887\n",
      "Epoch 51/200\n"
     ]
    },
    {
     "name": "stdout",
     "output_type": "stream",
     "text": [
      "8/8 [==============================] - 0s 18ms/step - loss: 0.0085 - mean_absolute_error: 0.0719 - val_loss: 0.0118 - val_mean_absolute_error: 0.0882\n",
      "Epoch 52/200\n",
      "8/8 [==============================] - 0s 20ms/step - loss: 0.0089 - mean_absolute_error: 0.0734 - val_loss: 0.0116 - val_mean_absolute_error: 0.0877\n",
      "Epoch 53/200\n",
      "8/8 [==============================] - 0s 28ms/step - loss: 0.0083 - mean_absolute_error: 0.0710 - val_loss: 0.0112 - val_mean_absolute_error: 0.0861\n",
      "Epoch 54/200\n",
      "8/8 [==============================] - 0s 27ms/step - loss: 0.0085 - mean_absolute_error: 0.0722 - val_loss: 0.0110 - val_mean_absolute_error: 0.0855\n",
      "Epoch 55/200\n",
      "8/8 [==============================] - 0s 23ms/step - loss: 0.0078 - mean_absolute_error: 0.0684 - val_loss: 0.0109 - val_mean_absolute_error: 0.0854\n",
      "Epoch 56/200\n",
      "8/8 [==============================] - 0s 20ms/step - loss: 0.0080 - mean_absolute_error: 0.0695 - val_loss: 0.0108 - val_mean_absolute_error: 0.0849\n",
      "Epoch 57/200\n",
      "8/8 [==============================] - 0s 19ms/step - loss: 0.0079 - mean_absolute_error: 0.0693 - val_loss: 0.0106 - val_mean_absolute_error: 0.0843\n",
      "Epoch 58/200\n",
      "8/8 [==============================] - 0s 18ms/step - loss: 0.0075 - mean_absolute_error: 0.0677 - val_loss: 0.0106 - val_mean_absolute_error: 0.0845\n",
      "Epoch 59/200\n",
      "8/8 [==============================] - 0s 19ms/step - loss: 0.0079 - mean_absolute_error: 0.0688 - val_loss: 0.0103 - val_mean_absolute_error: 0.0832\n",
      "Epoch 60/200\n",
      "8/8 [==============================] - 0s 20ms/step - loss: 0.0077 - mean_absolute_error: 0.0676 - val_loss: 0.0099 - val_mean_absolute_error: 0.0813\n",
      "Epoch 61/200\n",
      "8/8 [==============================] - 0s 19ms/step - loss: 0.0080 - mean_absolute_error: 0.0692 - val_loss: 0.0099 - val_mean_absolute_error: 0.0815\n",
      "Epoch 62/200\n",
      "8/8 [==============================] - 0s 20ms/step - loss: 0.0076 - mean_absolute_error: 0.0680 - val_loss: 0.0098 - val_mean_absolute_error: 0.0811\n",
      "Epoch 63/200\n",
      "8/8 [==============================] - 0s 20ms/step - loss: 0.0067 - mean_absolute_error: 0.0633 - val_loss: 0.0098 - val_mean_absolute_error: 0.0810\n",
      "Epoch 64/200\n",
      "8/8 [==============================] - 0s 23ms/step - loss: 0.0068 - mean_absolute_error: 0.0635 - val_loss: 0.0099 - val_mean_absolute_error: 0.0817\n",
      "Epoch 65/200\n",
      "8/8 [==============================] - 0s 21ms/step - loss: 0.0075 - mean_absolute_error: 0.0663 - val_loss: 0.0096 - val_mean_absolute_error: 0.0800\n",
      "Epoch 66/200\n",
      "8/8 [==============================] - 0s 19ms/step - loss: 0.0064 - mean_absolute_error: 0.0613 - val_loss: 0.0095 - val_mean_absolute_error: 0.0797\n",
      "Epoch 67/200\n",
      "8/8 [==============================] - 0s 19ms/step - loss: 0.0069 - mean_absolute_error: 0.0641 - val_loss: 0.0092 - val_mean_absolute_error: 0.0784\n",
      "Epoch 68/200\n",
      "8/8 [==============================] - 0s 23ms/step - loss: 0.0064 - mean_absolute_error: 0.0621 - val_loss: 0.0095 - val_mean_absolute_error: 0.0798\n",
      "Epoch 69/200\n",
      "8/8 [==============================] - 0s 20ms/step - loss: 0.0069 - mean_absolute_error: 0.0631 - val_loss: 0.0095 - val_mean_absolute_error: 0.0799\n",
      "3/3 [==============================] - 0s 3ms/step - loss: 0.0095 - mean_absolute_error: 0.0799\n"
     ]
    }
   ],
   "source": [
    "MAX_EPOCHS = 200\n",
    "\n",
    "lstm_model = tf.keras.models.Sequential([\n",
    "    # Shape [batch, time, features] => [batch, time, lstm_units]\n",
    "    tf.keras.layers.LSTM(32, return_sequences=True),\n",
    "    # Shape => [batch, time, features]\n",
    "    tf.keras.layers.Dense(units=1)\n",
    "])\n",
    "\n",
    "history = compile_and_fit(lstm_model, conv_window)\n",
    "\n",
    "val_performance['LSTM'] = lstm_model.evaluate(conv_window.val)\n",
    "performance['LSTM'] = lstm_model.evaluate(conv_window.test, verbose=0)"
   ]
  },
  {
   "cell_type": "markdown",
   "metadata": {},
   "source": [
    "## Performance comparison of models"
   ]
  },
  {
   "cell_type": "code",
   "execution_count": 434,
   "metadata": {},
   "outputs": [
    {
     "data": {
      "image/png": "[encoded data removed]",
      "text/plain": [
       "<Figure size 432x288 with 1 Axes>"
      ]
     },
     "metadata": {
      "needs_background": "light"
     },
     "output_type": "display_data"
    }
   ],
   "source": [
    "x = np.arange(len(performance))\n",
    "width = 0.3\n",
    "metric_name = 'mean_absolute_error'\n",
    "metric_index = lstm_model.metrics_names.index(metric_name)\n",
    "\n",
    "val_mae = [v[metric_index] for v in val_performance.values()]\n",
    "test_mae = [v[metric_index] for v in performance.values()]\n",
    "\n",
    "plt.ylabel('mean_absolute_error')\n",
    "plt.bar(x - 0.17, val_mae, width, label='Validation')\n",
    "plt.bar(x + 0.17, test_mae, width, label='Test')\n",
    "plt.xticks(ticks=x, labels=performance.keys(),\n",
    "           rotation=45)\n",
    "_ = plt.legend()"
   ]
  },
  {
   "cell_type": "markdown",
   "metadata": {},
   "source": [
    "## Time series preperation and training/evaluation of the LSTM network "
   ]
  },
  {
   "cell_type": "code",
   "execution_count": 52,
   "metadata": {},
   "outputs": [],
   "source": [
    "import tensorflow as tf\n",
    "from tensorflow import keras\n",
    "\n",
    "from sklearn.preprocessing import MinMaxScaler\n",
    "import pandas as pd\n",
    "import numpy as np\n",
    "\n",
    "import matplotlib.pyplot as plt\n",
    "%matplotlib inline\n",
    "scaler = MinMaxScaler(feature_range=(0,1))"
   ]
  },
  {
   "cell_type": "code",
   "execution_count": 68,
   "metadata": {},
   "outputs": [],
   "source": [
    "\n",
    "def scale_conform_data_series(df_mix, window = 32):\n",
    "    '''\n",
    "    Train and test time series features (news sentiment and DJIa) split by 90-10%\n",
    "    '''\n",
    "    \n",
    "    df_2d_vals = df_mix.values\n",
    "    scaler = MinMaxScaler(feature_range=(0,1))\n",
    "    x2 = scaler.fit_transform(df_2d_vals[:, 1].reshape(-1,1))\n",
    "    scaler = MinMaxScaler(feature_range=(0,1))\n",
    "    scaler.fit(df_2d_vals[:, 0].reshape(-1, 1))\n",
    "    x1 = scaler.transform(df_2d_vals[:, 0].reshape(-1, 1))\n",
    "    \n",
    "    x_size=x1.shape[0]\n",
    "    x_train, x_test = np.c_[x1[:round(x_size*0.9)], x2[:round(x_size*0.9)]], np.c_[x1[round(x_size*0.9):], x2[round(x_size*0.9):]]\n",
    "    x1_train, x1_test = x1[:round(x_size*0.9)], x1[round(x_size*0.9):]\n",
    "    x1_train, x1_test = np.array(x1_train).reshape(-1, 1), np.array(x1_test).reshape(-1, 1)\n",
    "    x_train_data, y_train_data, x1_train_data, y1_train_data=[], [], [], []\n",
    "\n",
    "    for i in range(window, len(x_train)):\n",
    "        x_train_data.append(x_train[i-window:i,:])\n",
    "        x1_train_data.append(x1_train[i-window:i, 0])\n",
    "        y_train_data.append(x_train[i,0])\n",
    "        y1_train_data.append(x_train[i,0])\n",
    "        \n",
    "    x_train_data = np.array(x_train_data)\n",
    "    x1_train_data = np.array(x1_train_data)\n",
    "    x1_train_data = x1_train_data.reshape(x1_train_data.shape[0], x1_train_data.shape[1], 1)\n",
    "    y_train_data = np.array(y_train_data).reshape(-1, 1)\n",
    "    y1_train_data = np.array(y1_train_data).reshape(-1, 1)\n",
    "    \n",
    "    return x_train_data, x1_train_data, y_train_data, y1_train_data, x1_train, x1_test "
   ]
  },
  {
   "cell_type": "code",
   "execution_count": 69,
   "metadata": {},
   "outputs": [],
   "source": [
    "x_train_data, x1_train_data, y_train_data, y1_train_data, x1_train, x1_test = scale_conform_data_series(df_mix)"
   ]
  },
  {
   "cell_type": "code",
   "execution_count": 75,
   "metadata": {
    "collapsed": true
   },
   "outputs": [
    {
     "name": "stdout",
     "output_type": "stream",
     "text": [
      "Epoch 1/40\n",
      "409/409 [==============================] - 18s 44ms/step - loss: 0.0046 - mae: 0.0270\n",
      "Epoch 2/40\n",
      "409/409 [==============================] - 17s 41ms/step - loss: 4.1057e-04 - mae: 0.0119\n",
      "Epoch 3/40\n",
      "409/409 [==============================] - 17s 41ms/step - loss: 2.6807e-04 - mae: 0.0085\n",
      "Epoch 4/40\n",
      "409/409 [==============================] - 17s 41ms/step - loss: 2.2962e-04 - mae: 0.0080\n",
      "Epoch 5/40\n",
      "409/409 [==============================] - 16s 40ms/step - loss: 1.9746e-04 - mae: 0.0070\n",
      "Epoch 6/40\n",
      "409/409 [==============================] - 17s 41ms/step - loss: 1.9811e-04 - mae: 0.0075\n",
      "Epoch 7/40\n",
      "409/409 [==============================] - 16s 39ms/step - loss: 1.6298e-04 - mae: 0.0059\n",
      "Epoch 8/40\n",
      "409/409 [==============================] - 17s 40ms/step - loss: 1.5941e-04 - mae: 0.0061\n",
      "Epoch 9/40\n",
      "409/409 [==============================] - 16s 40ms/step - loss: 1.5963e-04 - mae: 0.0065\n",
      "Epoch 10/40\n",
      "409/409 [==============================] - 17s 41ms/step - loss: 1.5046e-04 - mae: 0.0062\n",
      "Epoch 11/40\n",
      "409/409 [==============================] - 17s 41ms/step - loss: 1.3980e-04 - mae: 0.0057\n",
      "Epoch 12/40\n",
      "409/409 [==============================] - 17s 41ms/step - loss: 1.2741e-04 - mae: 0.0051\n",
      "Epoch 13/40\n",
      "409/409 [==============================] - 16s 40ms/step - loss: 1.3224e-04 - mae: 0.0058\n",
      "Epoch 14/40\n",
      "409/409 [==============================] - 17s 40ms/step - loss: 1.2282e-04 - mae: 0.0052\n",
      "Epoch 15/40\n",
      "409/409 [==============================] - 17s 40ms/step - loss: 1.2036e-04 - mae: 0.0054\n",
      "Epoch 16/40\n",
      "409/409 [==============================] - 17s 41ms/step - loss: 1.2131e-04 - mae: 0.0056\n",
      "Epoch 17/40\n",
      "409/409 [==============================] - 18s 43ms/step - loss: 1.1245e-04 - mae: 0.0049\n",
      "Epoch 18/40\n",
      "409/409 [==============================] - 17s 40ms/step - loss: 1.1412e-04 - mae: 0.0051\n",
      "Epoch 19/40\n",
      "409/409 [==============================] - 17s 41ms/step - loss: 1.0251e-04 - mae: 0.0044\n",
      "Epoch 20/40\n",
      "409/409 [==============================] - 17s 41ms/step - loss: 1.1150e-04 - mae: 0.0052\n",
      "Epoch 21/40\n",
      "409/409 [==============================] - 17s 41ms/step - loss: 9.8962e-05 - mae: 0.0043\n",
      "Epoch 22/40\n",
      "409/409 [==============================] - 17s 41ms/step - loss: 9.9051e-05 - mae: 0.0041\n",
      "Epoch 23/40\n",
      "409/409 [==============================] - 16s 40ms/step - loss: 9.4156e-05 - mae: 0.0040\n",
      "Epoch 24/40\n",
      "409/409 [==============================] - 16s 40ms/step - loss: 1.0163e-04 - mae: 0.0044\n",
      "Epoch 25/40\n",
      "409/409 [==============================] - 16s 40ms/step - loss: 9.0562e-05 - mae: 0.0038\n",
      "Epoch 26/40\n",
      "409/409 [==============================] - 16s 40ms/step - loss: 9.7728e-05 - mae: 0.0045\n",
      "Epoch 27/40\n",
      "409/409 [==============================] - 16s 40ms/step - loss: 9.3314e-05 - mae: 0.0040\n",
      "Epoch 28/40\n",
      "409/409 [==============================] - 16s 40ms/step - loss: 8.5132e-05 - mae: 0.0032\n",
      "Epoch 29/40\n",
      "409/409 [==============================] - 16s 40ms/step - loss: 9.4153e-05 - mae: 0.0041\n",
      "Epoch 30/40\n",
      "409/409 [==============================] - 16s 40ms/step - loss: 8.8327e-05 - mae: 0.0038\n",
      "Epoch 31/40\n",
      "409/409 [==============================] - 16s 39ms/step - loss: 9.3490e-05 - mae: 0.0041\n",
      "Epoch 32/40\n",
      "409/409 [==============================] - 16s 40ms/step - loss: 8.9204e-05 - mae: 0.0038\n",
      "Epoch 33/40\n",
      "409/409 [==============================] - 16s 40ms/step - loss: 8.8757e-05 - mae: 0.0037\n",
      "Epoch 34/40\n",
      "409/409 [==============================] - 16s 40ms/step - loss: 8.8456e-05 - mae: 0.0038\n",
      "Epoch 35/40\n",
      "409/409 [==============================] - 17s 41ms/step - loss: 8.4320e-05 - mae: 0.0034\n",
      "Epoch 36/40\n",
      "409/409 [==============================] - 17s 41ms/step - loss: 9.0718e-05 - mae: 0.0040\n",
      "Epoch 37/40\n",
      "409/409 [==============================] - 17s 41ms/step - loss: 8.7962e-05 - mae: 0.0037\n",
      "Epoch 38/40\n",
      "409/409 [==============================] - 16s 39ms/step - loss: 8.8739e-05 - mae: 0.0039\n",
      "Epoch 39/40\n",
      "409/409 [==============================] - 16s 40ms/step - loss: 8.7274e-05 - mae: 0.0036\n",
      "Epoch 40/40\n",
      "409/409 [==============================] - 16s 39ms/step - loss: 9.0657e-05 - mae: 0.0040\n"
     ]
    }
   ],
   "source": [
    "#building and training a shallow LSTM model. The model takes the historical time series and the scaled news \n",
    "# sentiment time-series in 32-days window  as input to predict the DJI avg-index for the next day.\n",
    "# we can use LearningRateScheduler to find the optimal learning rate\n",
    "\n",
    "#2D-model:\n",
    "tf.keras.backend.clear_session()\n",
    "tf.random.set_seed(51)\n",
    "np.random.seed(51)\n",
    "\n",
    "model = tf.keras.models.Sequential()\n",
    "model.add(tf.keras.layers.Bidirectional(tf.keras.layers.LSTM(32, return_sequences=True, input_shape = (x_train_data.shape[1], 2))))\n",
    "model.add(tf.keras.layers.Bidirectional(tf.keras.layers.LSTM(32)))\n",
    "model.add(tf.keras.layers.Dense(1))\n",
    "\n",
    "# lr_schedule = tf.keras.callbacks.LearningRateScheduler(\n",
    "#     lambda epoch: 1e-8 * 10**(epoch / 10))\n",
    "# optimizer = tf.keras.optimizers.SGD(lr=1e-8, momentum=0.9)\n",
    "\n",
    "# model.compile(loss=tf.keras.losses.Huber(),\n",
    "#               optimizer=optimizer,\n",
    "#               metrics=[\"mae\"])\n",
    "model.compile(loss='mean_squared_error',optimizer='adam', metrics=[\"mae\"])\n",
    "# history = model.fit(x_train_data, y_train_data, epochs = 40, callbacks=[lr_schedule])\n",
    "history = model.fit(x_train_data, y_train_data, epochs= 40)"
   ]
  },
  {
   "cell_type": "code",
   "execution_count": 88,
   "metadata": {},
   "outputs": [],
   "source": [
    "model.save(\"./saved_lstm_model.h5\")"
   ]
  },
  {
   "cell_type": "code",
   "execution_count": 99,
   "metadata": {},
   "outputs": [
    {
     "data": {
      "text/plain": [
       "Text(0, 0.5, 'Men Absolute Error')"
      ]
     },
     "execution_count": 99,
     "metadata": {},
     "output_type": "execute_result"
    },
    {
     "data": {
      "image/png": "[encoded data removed]",
      "text/plain": [
       "<Figure size 432x288 with 2 Axes>"
      ]
     },
     "metadata": {
      "needs_background": "light"
     },
     "output_type": "display_data"
    }
   ],
   "source": [
    "#plots of Loss and error fot the training rounds\n",
    "st_ep = 3\n",
    "fig, (ax_1, ax_2) = plt.subplots(2,1)\n",
    "xrange = range(st_ep, len(history.history['loss']))\n",
    "ax_1.plot(xrange, history.history['loss'][st_ep:], c = 'r')\n",
    "\n",
    "ax_1.set_ylabel('loss')\n",
    "ax_2.plot(xrange, history.history['mae'][st_ep:], c = 'b')\n",
    "ax_2.set_xlabel('epochs')\n",
    "ax_2.set_ylabel('Men Absolute Error')\n"
   ]
  },
  {
   "cell_type": "code",
   "execution_count": 71,
   "metadata": {
    "collapsed": true
   },
   "outputs": [
    {
     "data": {
      "text/plain": [
       "(1e-08, 0.0001, 0.0, 30.0)"
      ]
     },
     "execution_count": 71,
     "metadata": {},
     "output_type": "execute_result"
    },
    {
     "data": {
      "image/png": "[encoded data removed]",
      "text/plain": [
       "<Figure size 432x288 with 1 Axes>"
      ]
     },
     "metadata": {
      "needs_background": "light"
     },
     "output_type": "display_data"
    }
   ],
   "source": [
    "plt.semilogx(history.history[\"lr\"], history.history[\"loss\"])\n",
    "plt.axis([1e-8, 1e-4, 0, 30])"
   ]
  },
  {
   "cell_type": "code",
   "execution_count": null,
   "metadata": {},
   "outputs": [],
   "source": []
  },
  {
   "cell_type": "code",
   "execution_count": 80,
   "metadata": {},
   "outputs": [],
   "source": [
    "from sklearn.preprocessing import MinMaxScaler, StandardScaler\n",
    "\n",
    "#preparpe the test set sequence based on the window size of 32 days and inverse the preprocessing transformations\n",
    "\n",
    "window = 32\n",
    "X_test=[]\n",
    "for i in range(window ,x_test.shape[0]):\n",
    "    X_test.append(x_test[i-window:i,:])\n",
    "X_test=np.array(X_test)\n",
    "\n",
    "# X_test=np.reshape(X_test,(X_test.shape[0],X_test.shape[1],1))\n",
    "predicted = model.predict(X_test)\n",
    "\n",
    "scaler = MinMaxScaler(feature_range=(0,1))\n",
    "scaler.fit(df_2d_vals[:, 0].reshape(-1, 1))\n",
    "x1 = scaler.transform(df_2d_vals[:, 0].reshape(-1, 1))\n",
    "predicted_inv = scaler.inverse_transform(predicted)\n",
    "x1_train_inv = scaler.inverse_transform(x1_train)\n",
    "x1_test_inv = scaler.inverse_transform(x1_test)\n",
    "std_scaler = StandardScaler()\n",
    "\n",
    "sent_vals_std = std_scaler.fit_transform(sent_vals.reshape(-1, 1))"
   ]
  },
  {
   "cell_type": "code",
   "execution_count": 81,
   "metadata": {},
   "outputs": [
    {
     "data": {
      "text/plain": [
       "<matplotlib.legend.Legend at 0x7f79ac70d8b0>"
      ]
     },
     "execution_count": 81,
     "metadata": {},
     "output_type": "execute_result"
    },
    {
     "data": {
      "image/png": "[encoded data removed]",
      "text/plain": [
       "<Figure size 432x288 with 1 Axes>"
      ]
     },
     "metadata": {
      "needs_background": "light"
     },
     "output_type": "display_data"
    }
   ],
   "source": [
    "plt.plot(np.arange(len(x1_train)),x1_train[:,0], c='b', label = 'train')\n",
    "plt.plot(np.arange(len(x1_train),len(x1_train)+len(x1_test)),x1_test[:,0], c='r', label = 'test')\n",
    "plt.plot(np.arange(len(x1_train),len(x1_train)+len(predicted)),predicted[:,0], c='y', label = 'predict')\n",
    "plt.legend()"
   ]
  },
  {
   "cell_type": "markdown",
   "metadata": {},
   "source": [
    "## Visualizaing predictions "
   ]
  },
  {
   "cell_type": "code",
   "execution_count": 112,
   "metadata": {},
   "outputs": [
    {
     "data": {
      "text/plain": [
       "Text(0.5, 1.0, 'Dow Jones Industrial Average')"
      ]
     },
     "execution_count": 112,
     "metadata": {},
     "output_type": "execute_result"
    },
    {
     "data": {
      "image/png": "[encoded data removed]",
      "text/plain": [
       "<Figure size 1080x504 with 3 Axes>"
      ]
     },
     "metadata": {
      "needs_background": "light"
     },
     "output_type": "display_data"
    }
   ],
   "source": [
    "#Plotting the prediction results on the test set from '2008-01-17' to '2008-02-28 on the window size of 32 \n",
    "\n",
    "mask_step = 4\n",
    "my_cmap = cm.get_cmap('jet')\n",
    "# my_cmap = cm.get_cmap('Spectral')\n",
    "sent_vals = df_mix[['std_sentiment']].values[:, 0]\n",
    "my_norm = Normalize(vmin=min(sent_vals), vmax=max(sent_vals))\n",
    "\n",
    "fig, (ax1, ax2) = plt.subplots(2, 1, figsize=(15, 7))\n",
    "ax1.bar(df_mix.index.values[::mask_step], sent_vals[::mask_step], color = my_cmap(my_norm(sent_vals[::mask_step])), label = 'New-sentiment')\n",
    "ax1.set_title('News Sentiment')\n",
    "ax1.axes.xaxis.set_visible(False)\n",
    "\n",
    "divider = make_axes_locatable(ax1)\n",
    "cax = divider.new_vertical(size=0.05, pad=.6)\n",
    "cax.xaxis.set_ticks_position(\"top\")\n",
    "fig.add_axes(cax)\n",
    "\n",
    "plt.colorbar(cm.ScalarMappable(norm=my_norm, cmap=my_cmap),\n",
    "             cax=cax,\n",
    "             orientation='horizontal', fraction=0.02,anchor=(1.0,0.0))\n",
    "\n",
    "\n",
    "ax2.plot(df_mix.index.values[:len(x1_train_inv)], x1_train_inv[:,0], c = 'b', label = 'DJI-train')\n",
    "ax2.plot(df_mix.index.values[len(x1_train):len(x1_train)+len(x1_test)], x1_test_inv[:,0], c = 'r', label = 'DJI-test')\n",
    "ax2.plot(df_mix.index.values[len(x1_train): len(x1_train)+len(predicted)], predicted_inv[:,0], c = 'y', label = 'DJI-prediction')\n",
    "ax2.legend()\n",
    "ax2.set_title('Dow Jones Industrial Average')\n",
    "\n"
   ]
  },
  {
   "cell_type": "code",
   "execution_count": null,
   "metadata": {},
   "outputs": [],
   "source": [
    "plt.savefig('DJI-predict-plot.png')"
   ]
  },
  {
   "cell_type": "code",
   "execution_count": null,
   "metadata": {},
   "outputs": [],
   "source": [
    "# Alternative data_preperation for the LSTM network "
   ]
  },
  {
   "cell_type": "code",
   "execution_count": null,
   "metadata": {},
   "outputs": [],
   "source": [
    "train_size = 14569 - 500\n",
    "train, test = df_mix[:train_size] , df_mix[train_size:]\n",
    "train_v , test_v = train.values, test.values  \n",
    "sc_train, sc_test = scaler.fit_transform(train_v), scaler.fit_transform(test_v)"
   ]
  },
  {
   "cell_type": "code",
   "execution_count": null,
   "metadata": {},
   "outputs": [],
   "source": [
    "# using tensorflow to generate windowed datase. \n",
    "def windowed_dataset(series, window_size, batch_size, shuffle_buffer, shift_v):\n",
    "  dataset = tf.data.Dataset.from_tensor_slices(series)\n",
    "  dataset = dataset.window(window_size + 1, shift=shift_v, drop_remainder=True)\n",
    "  dataset = dataset.flat_map(lambda window: window.batch(window_size + shift_v))\n",
    "  dataset = dataset.shuffle(shuffle_buffer).map(lambda window: (window[:-shift_v], window[-shift_v:]))\n",
    "  dataset = dataset.batch(batch_size).prefetch(1)\n",
    "  return dataset"
   ]
  },
  {
   "cell_type": "code",
   "execution_count": null,
   "metadata": {},
   "outputs": [],
   "source": [
    "window_size = 20\n",
    "batch_size = 32\n",
    "shuffle_buffer_size = 1000\n",
    "\n",
    "shift_v = 1\n",
    "\n",
    "train_dataset = windowed_dataset(sc_train, window_size, batch_size, shuffle_buffer_size, shift_v)"
   ]
  },
  {
   "cell_type": "code",
   "execution_count": null,
   "metadata": {},
   "outputs": [],
   "source": [
    "tf.keras.backend.clear_session()\n",
    "tf.random.set_seed(51)\n",
    "np.random.seed(51)\n",
    "\n",
    "tf.keras.backend.clear_session()\n",
    "\n",
    "model = tf.keras.models.Sequential([\n",
    "#   tf.keras.layers.Lambda(lambda x: tf.expand_dims(x, axis=-1),\n",
    "#                       input_shape=[None, None]),\n",
    "    tf.keras.layers.Bidirectional(tf.keras.layers.LSTM(32, return_sequences=True)),\n",
    "  tf.keras.layers.Bidirectional(tf.keras.layers.LSTM(32)),\n",
    "  tf.keras.layers.Dense(shift_v),\n",
    "  tf.keras.layers.Lambda(lambda x: x * 100.0)\n",
    "])\n",
    "\n",
    "lr_schedule = tf.keras.callbacks.LearningRateScheduler(\n",
    "    lambda epoch: 1e-8 * 10**(epoch / 20))\n",
    "optimizer = tf.keras.optimizers.SGD(lr=1e-8, momentum=0.9)\n",
    "model.compile(loss=tf.keras.losses.Huber(),\n",
    "              optimizer=optimizer,\n",
    "              metrics=[\"mae\"])\n",
    "history = model.fit(train_dataset, epochs=10, callbacks=[lr_schedule])"
   ]
  },
  {
   "cell_type": "code",
   "execution_count": null,
   "metadata": {},
   "outputs": [],
   "source": [
    "model.save(\"./saved_lstm_model.h5\")"
   ]
  },
  {
   "cell_type": "code",
   "execution_count": null,
   "metadata": {},
   "outputs": [],
   "source": [
    "series_len = 14569\n",
    "forecast = []\n",
    "results = []\n",
    "for time in range(series_len - window_size):\n",
    "  forecast.append(model.predict(series[time:time + window_size][np.newaxis]))\n",
    "\n",
    "forecast = forecast[split_time-window_size:]"
   ]
  },
  {
   "cell_type": "code",
   "execution_count": null,
   "metadata": {},
   "outputs": [],
   "source": [
    "model.predict(series[time:time + window_size][np.newaxis])"
   ]
  },
  {
   "cell_type": "code",
   "execution_count": null,
   "metadata": {},
   "outputs": [],
   "source": []
  }
 ],
 "metadata": {
  "kernelspec": {
   "display_name": "Python 3",
   "language": "python",
   "name": "python3"
  },
  "language_info": {
   "codemirror_mode": {
    "name": "ipython",
    "version": 3
   },
   "file_extension": ".py",
   "mimetype": "text/x-python",
   "name": "python",
   "nbconvert_exporter": "python",
   "pygments_lexer": "ipython3",
   "version": "3.8.5"
  }
 },
 "nbformat": 4,
 "nbformat_minor": 4
}
