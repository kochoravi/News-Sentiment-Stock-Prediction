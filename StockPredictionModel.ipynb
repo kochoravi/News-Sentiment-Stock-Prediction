{
 "cells": [
  {
   "cell_type": "markdown",
   "metadata": {},
   "source": [
    "# Stock Market Prediction Using Financial News and Historical Data\n",
    "\n",
    "Using sentiment analysis and recurrent neural network models (LSTM)\n",
    "we combine ”public sentiment” and historical market data to find a predictor for ”market movment”. We use financial news datasets from Reuters to predict public mood given by the sentiment of the news headline. In addition, we use Dow Jones Industrial average closing price to predict next day movement. The model trained with time series features for the period '2006-10-20' to '2008-01-17' obtain ~%95 accuracy on the test set from '2008-01-17' to '2008-02-28 using the window size of 32 days.\n",
    "\n"
   ]
  },
  {
   "cell_type": "markdown",
   "metadata": {},
   "source": [
    "## Financial news-data prepration"
   ]
  },
  {
   "cell_type": "code",
   "execution_count": null,
   "metadata": {},
   "outputs": [],
   "source": [
    "import requests\n",
    "\n",
    "DIR_NAME = 'ReutersNews106521'\n",
    "def get_data(DIR_NAME):\n",
    "    '''\n",
    "    Get Reuters Finacial News Data Set \n",
    "    @ https://github.com/duynht/financial-news-dataset\n",
    "    '''\n",
    "    \n",
    "    if not os.path.exists(DIR_NAME):\n",
    "        os.mkdir(DIR_NAME)\n",
    "    url = \"https://github.com/duynht/financial-news-dataset/financial-news-dataset-master.zip\"\n",
    "    response = requests.get(url)\n",
    "    name = os.path.basename(url)\n",
    "    with open(os.path.join(DIR_NAME, name), 'w') as f:\n",
    "        f.write(response.content)\n"
   ]
  },
  {
   "cell_type": "code",
   "execution_count": 4,
   "metadata": {},
   "outputs": [],
   "source": [
    "#Load and parse Reuters Finacial News Data Set @ https://github.com/duynht/financial-news-dataset\n",
    "import os\n",
    "import sys\n",
    "DIR_NAME = 'ReutersNews106521'\n",
    "\n",
    "def parse_date(DIR_NAME = 'ReutersNews106521', dir_limit = 500):\n",
    "    \n",
    "    '''\n",
    "    parsing the news dataset folders and \n",
    "    extract news dates, titles and contents\n",
    "    use small dir_limit arg to experiment first\n",
    "    otherwise use full data set\n",
    "    '''\n",
    "    \n",
    "    c = 0\n",
    "    new_text = []\n",
    "    titles = []\n",
    "    dates = []\n",
    "    contents = []\n",
    "\n",
    "    for names in sorted(os.listdir(DIR_NAME)):\n",
    "        c+=1\n",
    "        path = os.path.join(DIR_NAME, names)\n",
    "        if c < dir_limit:\n",
    "            if os.path.isdir(path):\n",
    "                for fname in sorted(os.listdir(path)):\n",
    "                    fpath = os.path.join(path, fname)\n",
    "                    if(not fpath.endswith('.DS_Store')):\n",
    "                        with open(fpath, 'rb') as f:\n",
    "                            t = f.read().decode('utf-8',errors='ignore')\n",
    "                            new_text = t.split('\\n-- ')\n",
    "                            title, date, content = new_text[0].strip('--'), new_text[2], new_text[3] \n",
    "                            titles.append(title)\n",
    "                            dates.append(date)\n",
    "                            contents.append(content)\n",
    "    return titles, dates, contents\n",
    "\n",
    "titles, dates, contents =  parse_date('ReutersNews106521', sys.maxsize)"
   ]
  },
  {
   "cell_type": "markdown",
   "metadata": {},
   "source": [
    "## Finding news sentiments"
   ]
  },
  {
   "cell_type": "code",
   "execution_count": 7,
   "metadata": {},
   "outputs": [],
   "source": [
    "#Find News titles Sentiment using the updated lexicon of vaderSentiment\n",
    "#To Do: add the news content for as the feature\n",
    "\n",
    "from vaderSentiment.vaderSentiment import SentimentIntensityAnalyzer \n",
    "\n",
    "def sentiment_score_vade(sent):\n",
    "    \n",
    "    '''\n",
    "    find the sentiment of news with the updated lexicon\n",
    "    retruns: total poliarity of sentences (positve + negative + nuetral)\n",
    "    '''\n",
    "    \n",
    "    sia = SentimentIntensityAnalyzer()\n",
    "    new_words = {\n",
    "        'crushes': 10,\n",
    "        'beats': 5,\n",
    "        'misses': -5,\n",
    "        'trouble': -10,\n",
    "        'falls': -100,\n",
    "    }\n",
    "    sia.lexicon.update(new_words)\n",
    "    return sia.polarity_scores(sent)['compound']"
   ]
  },
  {
   "cell_type": "markdown",
   "metadata": {},
   "source": [
    "## DataFrame preprarion\n",
    "\n",
    "Pulling Dow Jones Industrial average and Mergeing/alingning with the sentiment data"
   ]
  },
  {
   "cell_type": "code",
   "execution_count": 8,
   "metadata": {
    "collapsed": true
   },
   "outputs": [
    {
     "name": "stderr",
     "output_type": "stream",
     "text": [
      "/opt/conda/lib/python3.8/site-packages/dateutil/parser/_parser.py:1213: UnknownTimezoneWarning: tzname EDT identified but not understood.  Pass `tzinfos` argument in order to correctly return a timezone-aware datetime.  In a future version, this will raise an exception.\n",
      "  warnings.warn(\"tzname {tzname} identified but not understood.  \"\n",
      "/opt/conda/lib/python3.8/site-packages/dateutil/parser/_parser.py:1213: UnknownTimezoneWarning: tzname EST identified but not understood.  Pass `tzinfos` argument in order to correctly return a timezone-aware datetime.  In a future version, this will raise an exception.\n",
      "  warnings.warn(\"tzname {tzname} identified but not understood.  \"\n"
     ]
    }
   ],
   "source": [
    "#make a dataframe using dates and titles and the corosponding sentiment\n",
    "\n",
    "import pandas as pd\n",
    "\n",
    "df = pd.DataFrame({\"date\": dates, \"title\": titles})\n",
    "df[\"date\"] = pd.to_datetime(df[\"date\"])\n",
    "df.set_index(\"date\", inplace = True)\n",
    "df = df.sort_index()\n",
    "df['sentiment'] = df.apply(sentiment_score_vade, axis = 1)"
   ]
  },
  {
   "cell_type": "code",
   "execution_count": 123,
   "metadata": {},
   "outputs": [
    {
     "data": {
      "text/html": [
       "<div>\n",
       "<style scoped>\n",
       "    .dataframe tbody tr th:only-of-type {\n",
       "        vertical-align: middle;\n",
       "    }\n",
       "\n",
       "    .dataframe tbody tr th {\n",
       "        vertical-align: top;\n",
       "    }\n",
       "\n",
       "    .dataframe thead th {\n",
       "        text-align: right;\n",
       "    }\n",
       "</style>\n",
       "<table border=\"1\" class=\"dataframe\">\n",
       "  <thead>\n",
       "    <tr style=\"text-align: right;\">\n",
       "      <th></th>\n",
       "      <th>title</th>\n",
       "      <th>sentiment</th>\n",
       "      <th>std_sentiment</th>\n",
       "    </tr>\n",
       "    <tr>\n",
       "      <th>date</th>\n",
       "      <th></th>\n",
       "      <th></th>\n",
       "      <th></th>\n",
       "    </tr>\n",
       "  </thead>\n",
       "  <tbody>\n",
       "    <tr>\n",
       "      <th>2006-10-20</th>\n",
       "      <td>Hey buddy, can you spare $600 for a Google sh...</td>\n",
       "      <td>0.2960</td>\n",
       "      <td>NaN</td>\n",
       "    </tr>\n",
       "    <tr>\n",
       "      <th>2006-10-20</th>\n",
       "      <td>Exxon Mobil offers plan to end Alaska dispute</td>\n",
       "      <td>-0.4019</td>\n",
       "      <td>NaN</td>\n",
       "    </tr>\n",
       "    <tr>\n",
       "      <th>2006-10-21</th>\n",
       "      <td>AOL CEO says sales may shrink for two years -...</td>\n",
       "      <td>0.0000</td>\n",
       "      <td>NaN</td>\n",
       "    </tr>\n",
       "    <tr>\n",
       "      <th>2006-10-21</th>\n",
       "      <td>Pluspetrol says losing $2.4 mln/day in Peru p...</td>\n",
       "      <td>-0.5574</td>\n",
       "      <td>NaN</td>\n",
       "    </tr>\n",
       "    <tr>\n",
       "      <th>2006-10-22</th>\n",
       "      <td>EU to urge China to open economy further</td>\n",
       "      <td>0.0000</td>\n",
       "      <td>0.386141</td>\n",
       "    </tr>\n",
       "    <tr>\n",
       "      <th>2006-10-22</th>\n",
       "      <td>Fed to keep hawkish tone, hold rates steady</td>\n",
       "      <td>0.0000</td>\n",
       "      <td>0.714546</td>\n",
       "    </tr>\n",
       "    <tr>\n",
       "      <th>2006-10-22</th>\n",
       "      <td>Weatherford profit jumps 78 percent</td>\n",
       "      <td>0.4404</td>\n",
       "      <td>1.308958</td>\n",
       "    </tr>\n",
       "    <tr>\n",
       "      <th>2006-10-22</th>\n",
       "      <td>Saudi Arabia tells Japan to cut its Nov crude...</td>\n",
       "      <td>-0.7003</td>\n",
       "      <td>-1.156541</td>\n",
       "    </tr>\n",
       "    <tr>\n",
       "      <th>2006-10-23</th>\n",
       "      <td>Australia's Foster's says confident on targets</td>\n",
       "      <td>0.4939</td>\n",
       "      <td>0.933414</td>\n",
       "    </tr>\n",
       "    <tr>\n",
       "      <th>2006-10-23</th>\n",
       "      <td>Macquarie bids $1.4 bln for metering firm Techem</td>\n",
       "      <td>0.0000</td>\n",
       "      <td>-0.097705</td>\n",
       "    </tr>\n",
       "  </tbody>\n",
       "</table>\n",
       "</div>"
      ],
      "text/plain": [
       "                                                        title  sentiment  \\\n",
       "date                                                                       \n",
       "2006-10-20   Hey buddy, can you spare $600 for a Google sh...     0.2960   \n",
       "2006-10-20      Exxon Mobil offers plan to end Alaska dispute    -0.4019   \n",
       "2006-10-21   AOL CEO says sales may shrink for two years -...     0.0000   \n",
       "2006-10-21   Pluspetrol says losing $2.4 mln/day in Peru p...    -0.5574   \n",
       "2006-10-22           EU to urge China to open economy further     0.0000   \n",
       "2006-10-22        Fed to keep hawkish tone, hold rates steady     0.0000   \n",
       "2006-10-22                Weatherford profit jumps 78 percent     0.4404   \n",
       "2006-10-22   Saudi Arabia tells Japan to cut its Nov crude...    -0.7003   \n",
       "2006-10-23     Australia's Foster's says confident on targets     0.4939   \n",
       "2006-10-23   Macquarie bids $1.4 bln for metering firm Techem     0.0000   \n",
       "\n",
       "            std_sentiment  \n",
       "date                       \n",
       "2006-10-20            NaN  \n",
       "2006-10-20            NaN  \n",
       "2006-10-21            NaN  \n",
       "2006-10-21            NaN  \n",
       "2006-10-22       0.386141  \n",
       "2006-10-22       0.714546  \n",
       "2006-10-22       1.308958  \n",
       "2006-10-22      -1.156541  \n",
       "2006-10-23       0.933414  \n",
       "2006-10-23      -0.097705  "
      ]
     },
     "execution_count": 123,
     "metadata": {},
     "output_type": "execute_result"
    }
   ],
   "source": [
    "df.head(10)"
   ]
  },
  {
   "cell_type": "code",
   "execution_count": 13,
   "metadata": {},
   "outputs": [
    {
     "data": {
      "text/plain": [
       "Index(['2006-10-20', '2006-10-20', '2006-10-21', '2006-10-21', '2006-10-22',\n",
       "       '2006-10-22', '2006-10-22', '2006-10-22', '2006-10-23', '2006-10-23',\n",
       "       ...\n",
       "       '2008-02-29', '2008-02-29', '2008-02-29', '2008-02-29', '2008-02-29',\n",
       "       '2008-02-29', '2008-02-29', '2008-02-29', '2008-02-29', '2008-02-29'],\n",
       "      dtype='object', name='date', length=17028)"
      ]
     },
     "execution_count": 13,
     "metadata": {},
     "output_type": "execute_result"
    }
   ],
   "source": [
    "df.index = df.index.strftime('%Y-%m-%d')"
   ]
  },
  {
   "cell_type": "code",
   "execution_count": 14,
   "metadata": {
    "collapsed": true
   },
   "outputs": [
    {
     "name": "stdout",
     "output_type": "stream",
     "text": [
      "Requirement already satisfied: yfinance in /opt/conda/lib/python3.8/site-packages (0.1.55)\n",
      "Requirement already satisfied: pandas>=0.24 in /opt/conda/lib/python3.8/site-packages (from yfinance) (1.1.0)\n",
      "Requirement already satisfied: lxml>=4.5.1 in /opt/conda/lib/python3.8/site-packages (from yfinance) (4.6.1)\n",
      "Requirement already satisfied: requests>=2.20 in /opt/conda/lib/python3.8/site-packages (from yfinance) (2.24.0)\n",
      "Requirement already satisfied: numpy>=1.15 in /opt/conda/lib/python3.8/site-packages (from yfinance) (1.19.1)\n",
      "Requirement already satisfied: multitasking>=0.0.7 in /opt/conda/lib/python3.8/site-packages (from yfinance) (0.0.9)\n",
      "Requirement already satisfied: pytz>=2017.2 in /opt/conda/lib/python3.8/site-packages (from pandas>=0.24->yfinance) (2020.1)\n",
      "Requirement already satisfied: python-dateutil>=2.7.3 in /opt/conda/lib/python3.8/site-packages (from pandas>=0.24->yfinance) (2.8.1)\n",
      "Requirement already satisfied: certifi>=2017.4.17 in /opt/conda/lib/python3.8/site-packages (from requests>=2.20->yfinance) (2020.6.20)\n",
      "Requirement already satisfied: chardet<4,>=3.0.2 in /opt/conda/lib/python3.8/site-packages (from requests>=2.20->yfinance) (3.0.4)\n",
      "Requirement already satisfied: idna<3,>=2.5 in /opt/conda/lib/python3.8/site-packages (from requests>=2.20->yfinance) (2.10)\n",
      "Requirement already satisfied: urllib3!=1.25.0,!=1.25.1,<1.26,>=1.21.1 in /opt/conda/lib/python3.8/site-packages (from requests>=2.20->yfinance) (1.25.10)\n",
      "Requirement already satisfied: six>=1.5 in /opt/conda/lib/python3.8/site-packages (from python-dateutil>=2.7.3->pandas>=0.24->yfinance) (1.15.0)\n"
     ]
    }
   ],
   "source": [
    "!pip install yfinance\n",
    "import yfinance as yf "
   ]
  },
  {
   "cell_type": "code",
   "execution_count": 15,
   "metadata": {},
   "outputs": [
    {
     "name": "stdout",
     "output_type": "stream",
     "text": [
      "[*********************100%***********************]  1 of 1 completed\n"
     ]
    }
   ],
   "source": [
    "# Getting historical data for Dow Jones Industrial Average index\n",
    "\n",
    "ticker = 'DJI'\n",
    "sdate = df.index[0]\n",
    "edate = df.index[-1]\n",
    "\n",
    "data = yf.download(ticker, sdate, edate)"
   ]
  },
  {
   "cell_type": "code",
   "execution_count": 116,
   "metadata": {},
   "outputs": [
    {
     "data": {
      "text/html": [
       "<div>\n",
       "<style scoped>\n",
       "    .dataframe tbody tr th:only-of-type {\n",
       "        vertical-align: middle;\n",
       "    }\n",
       "\n",
       "    .dataframe tbody tr th {\n",
       "        vertical-align: top;\n",
       "    }\n",
       "\n",
       "    .dataframe thead th {\n",
       "        text-align: right;\n",
       "    }\n",
       "</style>\n",
       "<table border=\"1\" class=\"dataframe\">\n",
       "  <thead>\n",
       "    <tr style=\"text-align: right;\">\n",
       "      <th></th>\n",
       "      <th>Open</th>\n",
       "      <th>High</th>\n",
       "      <th>Low</th>\n",
       "      <th>Close</th>\n",
       "      <th>Adj Close</th>\n",
       "      <th>Volume</th>\n",
       "    </tr>\n",
       "    <tr>\n",
       "      <th>Date</th>\n",
       "      <th></th>\n",
       "      <th></th>\n",
       "      <th></th>\n",
       "      <th></th>\n",
       "      <th></th>\n",
       "      <th></th>\n",
       "    </tr>\n",
       "  </thead>\n",
       "  <tbody>\n",
       "    <tr>\n",
       "      <th>2006-10-20</th>\n",
       "      <td>12002.400391</td>\n",
       "      <td>12002.400391</td>\n",
       "      <td>12002.400391</td>\n",
       "      <td>12002.400391</td>\n",
       "      <td>12002.400391</td>\n",
       "      <td>0</td>\n",
       "    </tr>\n",
       "    <tr>\n",
       "      <th>2006-10-23</th>\n",
       "      <td>12116.900391</td>\n",
       "      <td>12116.900391</td>\n",
       "      <td>12116.900391</td>\n",
       "      <td>12116.900391</td>\n",
       "      <td>12116.900391</td>\n",
       "      <td>0</td>\n",
       "    </tr>\n",
       "    <tr>\n",
       "      <th>2006-10-24</th>\n",
       "      <td>12127.900391</td>\n",
       "      <td>12127.900391</td>\n",
       "      <td>12127.900391</td>\n",
       "      <td>12127.900391</td>\n",
       "      <td>12127.900391</td>\n",
       "      <td>0</td>\n",
       "    </tr>\n",
       "    <tr>\n",
       "      <th>2006-10-25</th>\n",
       "      <td>12134.700195</td>\n",
       "      <td>12134.700195</td>\n",
       "      <td>12134.700195</td>\n",
       "      <td>12134.700195</td>\n",
       "      <td>12134.700195</td>\n",
       "      <td>0</td>\n",
       "    </tr>\n",
       "    <tr>\n",
       "      <th>2006-10-26</th>\n",
       "      <td>12163.700195</td>\n",
       "      <td>12163.700195</td>\n",
       "      <td>12163.700195</td>\n",
       "      <td>12163.700195</td>\n",
       "      <td>12163.700195</td>\n",
       "      <td>0</td>\n",
       "    </tr>\n",
       "  </tbody>\n",
       "</table>\n",
       "</div>"
      ],
      "text/plain": [
       "                    Open          High           Low         Close  \\\n",
       "Date                                                                 \n",
       "2006-10-20  12002.400391  12002.400391  12002.400391  12002.400391   \n",
       "2006-10-23  12116.900391  12116.900391  12116.900391  12116.900391   \n",
       "2006-10-24  12127.900391  12127.900391  12127.900391  12127.900391   \n",
       "2006-10-25  12134.700195  12134.700195  12134.700195  12134.700195   \n",
       "2006-10-26  12163.700195  12163.700195  12163.700195  12163.700195   \n",
       "\n",
       "               Adj Close  Volume  \n",
       "Date                              \n",
       "2006-10-20  12002.400391       0  \n",
       "2006-10-23  12116.900391       0  \n",
       "2006-10-24  12127.900391       0  \n",
       "2006-10-25  12134.700195       0  \n",
       "2006-10-26  12163.700195       0  "
      ]
     },
     "execution_count": 116,
     "metadata": {},
     "output_type": "execute_result"
    }
   ],
   "source": [
    "data.head()"
   ]
  },
  {
   "cell_type": "code",
   "execution_count": 17,
   "metadata": {},
   "outputs": [],
   "source": [
    "#Compute the standardize (centered by the mean and divided by std) 5-days rolling average of news sentiment\n",
    "\n",
    "r_wind = 5 \n",
    "tol = 0.0001\n",
    "df['std_sentiment'] = (df['sentiment'] - df['sentiment'].rolling(r_wind).mean())/(df['sentiment'].rolling(r_wind).std()+tol)"
   ]
  },
  {
   "cell_type": "code",
   "execution_count": 120,
   "metadata": {},
   "outputs": [
    {
     "data": {
      "text/html": [
       "<div>\n",
       "<style scoped>\n",
       "    .dataframe tbody tr th:only-of-type {\n",
       "        vertical-align: middle;\n",
       "    }\n",
       "\n",
       "    .dataframe tbody tr th {\n",
       "        vertical-align: top;\n",
       "    }\n",
       "\n",
       "    .dataframe thead th {\n",
       "        text-align: right;\n",
       "    }\n",
       "</style>\n",
       "<table border=\"1\" class=\"dataframe\">\n",
       "  <thead>\n",
       "    <tr style=\"text-align: right;\">\n",
       "      <th></th>\n",
       "      <th>Open</th>\n",
       "      <th>High</th>\n",
       "      <th>Low</th>\n",
       "      <th>Close</th>\n",
       "      <th>Adj Close</th>\n",
       "      <th>Volume</th>\n",
       "      <th>std_sentiment</th>\n",
       "    </tr>\n",
       "  </thead>\n",
       "  <tbody>\n",
       "    <tr>\n",
       "      <th>2006-10-20</th>\n",
       "      <td>12002.400391</td>\n",
       "      <td>12002.400391</td>\n",
       "      <td>12002.400391</td>\n",
       "      <td>12002.400391</td>\n",
       "      <td>12002.400391</td>\n",
       "      <td>0</td>\n",
       "      <td>0.933414</td>\n",
       "    </tr>\n",
       "    <tr>\n",
       "      <th>2006-10-20</th>\n",
       "      <td>12002.400391</td>\n",
       "      <td>12002.400391</td>\n",
       "      <td>12002.400391</td>\n",
       "      <td>12002.400391</td>\n",
       "      <td>12002.400391</td>\n",
       "      <td>0</td>\n",
       "      <td>0.933414</td>\n",
       "    </tr>\n",
       "    <tr>\n",
       "      <th>2006-10-23</th>\n",
       "      <td>12116.900391</td>\n",
       "      <td>12116.900391</td>\n",
       "      <td>12116.900391</td>\n",
       "      <td>12116.900391</td>\n",
       "      <td>12116.900391</td>\n",
       "      <td>0</td>\n",
       "      <td>0.933414</td>\n",
       "    </tr>\n",
       "    <tr>\n",
       "      <th>2006-10-23</th>\n",
       "      <td>12116.900391</td>\n",
       "      <td>12116.900391</td>\n",
       "      <td>12116.900391</td>\n",
       "      <td>12116.900391</td>\n",
       "      <td>12116.900391</td>\n",
       "      <td>0</td>\n",
       "      <td>-0.097705</td>\n",
       "    </tr>\n",
       "    <tr>\n",
       "      <th>2006-10-23</th>\n",
       "      <td>12116.900391</td>\n",
       "      <td>12116.900391</td>\n",
       "      <td>12116.900391</td>\n",
       "      <td>12116.900391</td>\n",
       "      <td>12116.900391</td>\n",
       "      <td>0</td>\n",
       "      <td>-0.097705</td>\n",
       "    </tr>\n",
       "  </tbody>\n",
       "</table>\n",
       "</div>"
      ],
      "text/plain": [
       "                    Open          High           Low         Close  \\\n",
       "2006-10-20  12002.400391  12002.400391  12002.400391  12002.400391   \n",
       "2006-10-20  12002.400391  12002.400391  12002.400391  12002.400391   \n",
       "2006-10-23  12116.900391  12116.900391  12116.900391  12116.900391   \n",
       "2006-10-23  12116.900391  12116.900391  12116.900391  12116.900391   \n",
       "2006-10-23  12116.900391  12116.900391  12116.900391  12116.900391   \n",
       "\n",
       "               Adj Close  Volume  std_sentiment  \n",
       "2006-10-20  12002.400391       0       0.933414  \n",
       "2006-10-20  12002.400391       0       0.933414  \n",
       "2006-10-23  12116.900391       0       0.933414  \n",
       "2006-10-23  12116.900391       0      -0.097705  \n",
       "2006-10-23  12116.900391       0      -0.097705  "
      ]
     },
     "execution_count": 120,
     "metadata": {},
     "output_type": "execute_result"
    }
   ],
   "source": [
    "df_mix_all.head()"
   ]
  },
  {
   "cell_type": "code",
   "execution_count": null,
   "metadata": {},
   "outputs": [],
   "source": []
  },
  {
   "cell_type": "code",
   "execution_count": 119,
   "metadata": {},
   "outputs": [],
   "source": [
    "df_mix_all = pd.merge(data, df[[\"std_sentiment\"]], left_index = True, right_index = True)\n",
    "df_mix_all.fillna(method='bfill', inplace=True)"
   ]
  },
  {
   "cell_type": "code",
   "execution_count": 122,
   "metadata": {},
   "outputs": [
    {
     "data": {
      "text/plain": [
       "array([[<matplotlib.axes._subplots.AxesSubplot object at 0x7f7932058f10>,\n",
       "        <matplotlib.axes._subplots.AxesSubplot object at 0x7f7931f50b80>],\n",
       "       [<matplotlib.axes._subplots.AxesSubplot object at 0x7f7931f01a90>,\n",
       "        <matplotlib.axes._subplots.AxesSubplot object at 0x7f7931f2b250>],\n",
       "       [<matplotlib.axes._subplots.AxesSubplot object at 0x7f7931ecb970>,\n",
       "        <matplotlib.axes._subplots.AxesSubplot object at 0x7f7931ef61c0>]],\n",
       "      dtype=object)"
      ]
     },
     "execution_count": 122,
     "metadata": {},
     "output_type": "execute_result"
    },
    {
     "data": {
      "image/png": "[encoded data removed]",
      "text/plain": [
       "<Figure size 432x288 with 6 Axes>"
      ]
     },
     "metadata": {
      "needs_background": "light"
     },
     "output_type": "display_data"
    }
   ],
   "source": [
    "# Plot a histogram for few columns of the dataframe which shows the distribution of values\n",
    "df_mix_all[[\"Close\", \"Open\", \"High\", \"Low\", \"std_sentiment\"]].hist(sharex = False, sharey = False, xlabelsize = 4, ylabelsize = 4)"
   ]
  },
  {
   "cell_type": "code",
   "execution_count": 18,
   "metadata": {},
   "outputs": [],
   "source": [
    "#We use only \"Close\" price and news sentiments as features of our model\n",
    "#Merge historical data and news sentiments and handle missing values\n",
    "\n",
    "df_mix = pd.merge(data[[\"Close\"]], df[[\"std_sentiment\"]], left_index = True, right_index = True)\n",
    "df_mix.fillna(method='bfill', inplace=True)"
   ]
  },
  {
   "cell_type": "code",
   "execution_count": 115,
   "metadata": {},
   "outputs": [
    {
     "data": {
      "text/html": [
       "<div>\n",
       "<style scoped>\n",
       "    .dataframe tbody tr th:only-of-type {\n",
       "        vertical-align: middle;\n",
       "    }\n",
       "\n",
       "    .dataframe tbody tr th {\n",
       "        vertical-align: top;\n",
       "    }\n",
       "\n",
       "    .dataframe thead th {\n",
       "        text-align: right;\n",
       "    }\n",
       "</style>\n",
       "<table border=\"1\" class=\"dataframe\">\n",
       "  <thead>\n",
       "    <tr style=\"text-align: right;\">\n",
       "      <th></th>\n",
       "      <th>Close</th>\n",
       "      <th>std_sentiment</th>\n",
       "    </tr>\n",
       "  </thead>\n",
       "  <tbody>\n",
       "    <tr>\n",
       "      <th>count</th>\n",
       "      <td>14569.000000</td>\n",
       "      <td>1.456900e+04</td>\n",
       "    </tr>\n",
       "    <tr>\n",
       "      <th>mean</th>\n",
       "      <td>12941.267878</td>\n",
       "      <td>-2.634303e-03</td>\n",
       "    </tr>\n",
       "    <tr>\n",
       "      <th>std</th>\n",
       "      <td>576.694432</td>\n",
       "      <td>8.857303e-01</td>\n",
       "    </tr>\n",
       "    <tr>\n",
       "      <th>min</th>\n",
       "      <td>11971.200195</td>\n",
       "      <td>-1.788454e+00</td>\n",
       "    </tr>\n",
       "    <tr>\n",
       "      <th>25%</th>\n",
       "      <td>12441.299805</td>\n",
       "      <td>-6.601949e-01</td>\n",
       "    </tr>\n",
       "    <tr>\n",
       "      <th>50%</th>\n",
       "      <td>12853.099609</td>\n",
       "      <td>-1.776357e-12</td>\n",
       "    </tr>\n",
       "    <tr>\n",
       "      <th>75%</th>\n",
       "      <td>13432.799805</td>\n",
       "      <td>6.553397e-01</td>\n",
       "    </tr>\n",
       "    <tr>\n",
       "      <th>max</th>\n",
       "      <td>14093.099609</td>\n",
       "      <td>1.788426e+00</td>\n",
       "    </tr>\n",
       "  </tbody>\n",
       "</table>\n",
       "</div>"
      ],
      "text/plain": [
       "              Close  std_sentiment\n",
       "count  14569.000000   1.456900e+04\n",
       "mean   12941.267878  -2.634303e-03\n",
       "std      576.694432   8.857303e-01\n",
       "min    11971.200195  -1.788454e+00\n",
       "25%    12441.299805  -6.601949e-01\n",
       "50%    12853.099609  -1.776357e-12\n",
       "75%    13432.799805   6.553397e-01\n",
       "max    14093.099609   1.788426e+00"
      ]
     },
     "execution_count": 115,
     "metadata": {},
     "output_type": "execute_result"
    }
   ],
   "source": [
    "df_mix.describe()"
   ]
  },
  {
   "cell_type": "code",
   "execution_count": 20,
   "metadata": {},
   "outputs": [],
   "source": [
    "# picle the mixed datafarme\n",
    "df_mix.to_pickle(\"./data_mix.pkl\")\n",
    "import pandas as pd\n",
    "# df_mix = pd.read_pickle('./data_mix.pkl')\n",
    "# df_mix.head()"
   ]
  },
  {
   "cell_type": "markdown",
   "metadata": {},
   "source": [
    "## Time series visualization"
   ]
  },
  {
   "cell_type": "code",
   "execution_count": 114,
   "metadata": {},
   "outputs": [
    {
     "data": {
      "text/plain": [
       "Text(0.5, 1.0, 'Dow Jones Industrial Average')"
      ]
     },
     "execution_count": 114,
     "metadata": {},
     "output_type": "execute_result"
    },
    {
     "data": {
      "image/png": "[encoded data removed]",
      "text/plain": [
       "<Figure size 1080x504 with 3 Axes>"
      ]
     },
     "metadata": {
      "needs_background": "light"
     },
     "output_type": "display_data"
    }
   ],
   "source": [
    "#visualizing the news sentiment and the historical data\n",
    "\n",
    "import matplotlib.pyplot as plt\n",
    "from matplotlib.colors import Normalize\n",
    "import matplotlib.cm as cm\n",
    "from mpl_toolkits.axes_grid1 import make_axes_locatable\n",
    "\n",
    "mask_step = 4\n",
    "my_cmap = cm.get_cmap('jet')\n",
    "# my_cmap = cm.get_cmap('Spectral')\n",
    "sent_vals = df_mix[['std_sentiment']].values[:, 0]\n",
    "my_norm = Normalize(vmin=min(sent_vals), vmax=max(sent_vals))\n",
    "\n",
    "fig, (ax1, ax2) = plt.subplots(2, 1, figsize=(15, 7))\n",
    "ax1.bar(df_mix.index.values[::mask_step], sent_vals[::mask_step], color = my_cmap(my_norm(sent_vals[::mask_step])), label = 'New-sentiment')\n",
    "ax1.set_title('News Sentiment')\n",
    "ax1.axes.xaxis.set_visible(False)\n",
    "\n",
    "divider = make_axes_locatable(ax1)\n",
    "cax = divider.new_vertical(size=\"5%\", pad=.6)\n",
    "cax.xaxis.set_ticks_position(\"top\")\n",
    "\n",
    "fig.add_axes(cax)\n",
    "\n",
    "plt.colorbar(cm.ScalarMappable(norm=my_norm, cmap=my_cmap),\n",
    "             cax=cax,\n",
    "             orientation='horizontal', fraction=0.02,anchor=(1.0,0.0))\n",
    "\n",
    "\n",
    "ax2.plot(df_mix.index, df_mix[[\"Close\"]], c = 'b', label = 'DJI-Close')\n",
    "ax2.legend()\n",
    "ax2.set_title('Dow Jones Industrial Average')\n"
   ]
  },
  {
   "cell_type": "code",
   "execution_count": null,
   "metadata": {},
   "outputs": [],
   "source": []
  },
  {
   "cell_type": "markdown",
   "metadata": {},
   "source": [
    "## Data preperation for the LSTM network "
   ]
  },
  {
   "cell_type": "code",
   "execution_count": 52,
   "metadata": {},
   "outputs": [],
   "source": [
    "import tensorflow as tf\n",
    "from tensorflow import keras\n",
    "\n",
    "from sklearn.preprocessing import MinMaxScaler\n",
    "import pandas as pd\n",
    "import numpy as np\n",
    "\n",
    "import matplotlib.pyplot as plt\n",
    "%matplotlib inline\n",
    "scaler = MinMaxScaler(feature_range=(0,1))"
   ]
  },
  {
   "cell_type": "code",
   "execution_count": 68,
   "metadata": {},
   "outputs": [],
   "source": [
    "\n",
    "def scale_conform_data_series(df_mix, window = 32):\n",
    "    '''\n",
    "    Train and test time series features (news sentiment and DJIa) split by 90-10%\n",
    "    '''\n",
    "    \n",
    "    df_2d_vals = df_mix.values\n",
    "    scaler = MinMaxScaler(feature_range=(0,1))\n",
    "    x2 = scaler.fit_transform(df_2d_vals[:, 1].reshape(-1,1))\n",
    "    scaler = MinMaxScaler(feature_range=(0,1))\n",
    "    scaler.fit(df_2d_vals[:, 0].reshape(-1, 1))\n",
    "    x1 = scaler.transform(df_2d_vals[:, 0].reshape(-1, 1))\n",
    "    \n",
    "    x_size=x1.shape[0]\n",
    "    x_train, x_test = np.c_[x1[:round(x_size*0.9)], x2[:round(x_size*0.9)]], np.c_[x1[round(x_size*0.9):], x2[round(x_size*0.9):]]\n",
    "    x1_train, x1_test = x1[:round(x_size*0.9)], x1[round(x_size*0.9):]\n",
    "    x1_train, x1_test = np.array(x1_train).reshape(-1, 1), np.array(x1_test).reshape(-1, 1)\n",
    "    x_train_data, y_train_data, x1_train_data, y1_train_data=[], [], [], []\n",
    "\n",
    "    for i in range(window, len(x_train)):\n",
    "        x_train_data.append(x_train[i-window:i,:])\n",
    "        x1_train_data.append(x1_train[i-window:i, 0])\n",
    "        y_train_data.append(x_train[i,0])\n",
    "        y1_train_data.append(x_train[i,0])\n",
    "        \n",
    "    x_train_data = np.array(x_train_data)\n",
    "    x1_train_data = np.array(x1_train_data)\n",
    "    x1_train_data = x1_train_data.reshape(x1_train_data.shape[0], x1_train_data.shape[1], 1)\n",
    "    y_train_data = np.array(y_train_data).reshape(-1, 1)\n",
    "    y1_train_data = np.array(y1_train_data).reshape(-1, 1)\n",
    "    \n",
    "    return x_train_data, x1_train_data, y_train_data, y1_train_data, x1_train, x1_test "
   ]
  },
  {
   "cell_type": "code",
   "execution_count": 69,
   "metadata": {},
   "outputs": [],
   "source": [
    "x_train_data, x1_train_data, y_train_data, y1_train_data, x1_train, x1_test = scale_conform_data_series(df_mix)"
   ]
  },
  {
   "cell_type": "code",
   "execution_count": 75,
   "metadata": {
    "collapsed": true
   },
   "outputs": [
    {
     "name": "stdout",
     "output_type": "stream",
     "text": [
      "Epoch 1/40\n",
      "409/409 [==============================] - 18s 44ms/step - loss: 0.0046 - mae: 0.0270\n",
      "Epoch 2/40\n",
      "409/409 [==============================] - 17s 41ms/step - loss: 4.1057e-04 - mae: 0.0119\n",
      "Epoch 3/40\n",
      "409/409 [==============================] - 17s 41ms/step - loss: 2.6807e-04 - mae: 0.0085\n",
      "Epoch 4/40\n",
      "409/409 [==============================] - 17s 41ms/step - loss: 2.2962e-04 - mae: 0.0080\n",
      "Epoch 5/40\n",
      "409/409 [==============================] - 16s 40ms/step - loss: 1.9746e-04 - mae: 0.0070\n",
      "Epoch 6/40\n",
      "409/409 [==============================] - 17s 41ms/step - loss: 1.9811e-04 - mae: 0.0075\n",
      "Epoch 7/40\n",
      "409/409 [==============================] - 16s 39ms/step - loss: 1.6298e-04 - mae: 0.0059\n",
      "Epoch 8/40\n",
      "409/409 [==============================] - 17s 40ms/step - loss: 1.5941e-04 - mae: 0.0061\n",
      "Epoch 9/40\n",
      "409/409 [==============================] - 16s 40ms/step - loss: 1.5963e-04 - mae: 0.0065\n",
      "Epoch 10/40\n",
      "409/409 [==============================] - 17s 41ms/step - loss: 1.5046e-04 - mae: 0.0062\n",
      "Epoch 11/40\n",
      "409/409 [==============================] - 17s 41ms/step - loss: 1.3980e-04 - mae: 0.0057\n",
      "Epoch 12/40\n",
      "409/409 [==============================] - 17s 41ms/step - loss: 1.2741e-04 - mae: 0.0051\n",
      "Epoch 13/40\n",
      "409/409 [==============================] - 16s 40ms/step - loss: 1.3224e-04 - mae: 0.0058\n",
      "Epoch 14/40\n",
      "409/409 [==============================] - 17s 40ms/step - loss: 1.2282e-04 - mae: 0.0052\n",
      "Epoch 15/40\n",
      "409/409 [==============================] - 17s 40ms/step - loss: 1.2036e-04 - mae: 0.0054\n",
      "Epoch 16/40\n",
      "409/409 [==============================] - 17s 41ms/step - loss: 1.2131e-04 - mae: 0.0056\n",
      "Epoch 17/40\n",
      "409/409 [==============================] - 18s 43ms/step - loss: 1.1245e-04 - mae: 0.0049\n",
      "Epoch 18/40\n",
      "409/409 [==============================] - 17s 40ms/step - loss: 1.1412e-04 - mae: 0.0051\n",
      "Epoch 19/40\n",
      "409/409 [==============================] - 17s 41ms/step - loss: 1.0251e-04 - mae: 0.0044\n",
      "Epoch 20/40\n",
      "409/409 [==============================] - 17s 41ms/step - loss: 1.1150e-04 - mae: 0.0052\n",
      "Epoch 21/40\n",
      "409/409 [==============================] - 17s 41ms/step - loss: 9.8962e-05 - mae: 0.0043\n",
      "Epoch 22/40\n",
      "409/409 [==============================] - 17s 41ms/step - loss: 9.9051e-05 - mae: 0.0041\n",
      "Epoch 23/40\n",
      "409/409 [==============================] - 16s 40ms/step - loss: 9.4156e-05 - mae: 0.0040\n",
      "Epoch 24/40\n",
      "409/409 [==============================] - 16s 40ms/step - loss: 1.0163e-04 - mae: 0.0044\n",
      "Epoch 25/40\n",
      "409/409 [==============================] - 16s 40ms/step - loss: 9.0562e-05 - mae: 0.0038\n",
      "Epoch 26/40\n",
      "409/409 [==============================] - 16s 40ms/step - loss: 9.7728e-05 - mae: 0.0045\n",
      "Epoch 27/40\n",
      "409/409 [==============================] - 16s 40ms/step - loss: 9.3314e-05 - mae: 0.0040\n",
      "Epoch 28/40\n",
      "409/409 [==============================] - 16s 40ms/step - loss: 8.5132e-05 - mae: 0.0032\n",
      "Epoch 29/40\n",
      "409/409 [==============================] - 16s 40ms/step - loss: 9.4153e-05 - mae: 0.0041\n",
      "Epoch 30/40\n",
      "409/409 [==============================] - 16s 40ms/step - loss: 8.8327e-05 - mae: 0.0038\n",
      "Epoch 31/40\n",
      "409/409 [==============================] - 16s 39ms/step - loss: 9.3490e-05 - mae: 0.0041\n",
      "Epoch 32/40\n",
      "409/409 [==============================] - 16s 40ms/step - loss: 8.9204e-05 - mae: 0.0038\n",
      "Epoch 33/40\n",
      "409/409 [==============================] - 16s 40ms/step - loss: 8.8757e-05 - mae: 0.0037\n",
      "Epoch 34/40\n",
      "409/409 [==============================] - 16s 40ms/step - loss: 8.8456e-05 - mae: 0.0038\n",
      "Epoch 35/40\n",
      "409/409 [==============================] - 17s 41ms/step - loss: 8.4320e-05 - mae: 0.0034\n",
      "Epoch 36/40\n",
      "409/409 [==============================] - 17s 41ms/step - loss: 9.0718e-05 - mae: 0.0040\n",
      "Epoch 37/40\n",
      "409/409 [==============================] - 17s 41ms/step - loss: 8.7962e-05 - mae: 0.0037\n",
      "Epoch 38/40\n",
      "409/409 [==============================] - 16s 39ms/step - loss: 8.8739e-05 - mae: 0.0039\n",
      "Epoch 39/40\n",
      "409/409 [==============================] - 16s 40ms/step - loss: 8.7274e-05 - mae: 0.0036\n",
      "Epoch 40/40\n",
      "409/409 [==============================] - 16s 39ms/step - loss: 9.0657e-05 - mae: 0.0040\n"
     ]
    }
   ],
   "source": [
    "#building and training a shallow LSTM model. The model takes the historical time series and the scaled news \n",
    "# sentiment time-series in 32-days window  as input to predict the DJI avg-index for the next day.\n",
    "# we can use LearningRateScheduler to find the optimal learning rate\n",
    "\n",
    "#2D-model:\n",
    "tf.keras.backend.clear_session()\n",
    "tf.random.set_seed(51)\n",
    "np.random.seed(51)\n",
    "\n",
    "model = tf.keras.models.Sequential()\n",
    "model.add(tf.keras.layers.Bidirectional(tf.keras.layers.LSTM(32, return_sequences=True, input_shape = (x_train_data.shape[1], 2))))\n",
    "model.add(tf.keras.layers.Bidirectional(tf.keras.layers.LSTM(32)))\n",
    "model.add(tf.keras.layers.Dense(1))\n",
    "\n",
    "# lr_schedule = tf.keras.callbacks.LearningRateScheduler(\n",
    "#     lambda epoch: 1e-8 * 10**(epoch / 10))\n",
    "# optimizer = tf.keras.optimizers.SGD(lr=1e-8, momentum=0.9)\n",
    "\n",
    "# model.compile(loss=tf.keras.losses.Huber(),\n",
    "#               optimizer=optimizer,\n",
    "#               metrics=[\"mae\"])\n",
    "model.compile(loss='mean_squared_error',optimizer='adam', metrics=[\"mae\"])\n",
    "# history = model.fit(x_train_data, y_train_data, epochs = 40, callbacks=[lr_schedule])\n",
    "history = model.fit(x_train_data, y_train_data, epochs= 40)"
   ]
  },
  {
   "cell_type": "code",
   "execution_count": 88,
   "metadata": {},
   "outputs": [],
   "source": [
    "model.save(\"./saved_lstm_model.h5\")"
   ]
  },
  {
   "cell_type": "code",
   "execution_count": 99,
   "metadata": {},
   "outputs": [
    {
     "data": {
      "text/plain": [
       "Text(0, 0.5, 'Men Absolute Error')"
      ]
     },
     "execution_count": 99,
     "metadata": {},
     "output_type": "execute_result"
    },
    {
     "data": {
      "image/png": "[encoded data removed]",
      "text/plain": [
       "<Figure size 432x288 with 2 Axes>"
      ]
     },
     "metadata": {
      "needs_background": "light"
     },
     "output_type": "display_data"
    }
   ],
   "source": [
    "#plots of Loss and error fot the training rounds\n",
    "st_ep = 3\n",
    "fig, (ax_1, ax_2) = plt.subplots(2,1)\n",
    "xrange = range(st_ep, len(history.history['loss']))\n",
    "ax_1.plot(xrange, history.history['loss'][st_ep:], c = 'r')\n",
    "\n",
    "ax_1.set_ylabel('loss')\n",
    "ax_2.plot(xrange, history.history['mae'][st_ep:], c = 'b')\n",
    "ax_2.set_xlabel('epochs')\n",
    "ax_2.set_ylabel('Men Absolute Error')\n"
   ]
  },
  {
   "cell_type": "code",
   "execution_count": 71,
   "metadata": {
    "collapsed": true
   },
   "outputs": [
    {
     "data": {
      "text/plain": [
       "(1e-08, 0.0001, 0.0, 30.0)"
      ]
     },
     "execution_count": 71,
     "metadata": {},
     "output_type": "execute_result"
    },
    {
     "data": {
      "image/png": "[encoded data removed]",
      "text/plain": [
       "<Figure size 432x288 with 1 Axes>"
      ]
     },
     "metadata": {
      "needs_background": "light"
     },
     "output_type": "display_data"
    }
   ],
   "source": [
    "plt.semilogx(history.history[\"lr\"], history.history[\"loss\"])\n",
    "plt.axis([1e-8, 1e-4, 0, 30])"
   ]
  },
  {
   "cell_type": "code",
   "execution_count": null,
   "metadata": {},
   "outputs": [],
   "source": []
  },
  {
   "cell_type": "code",
   "execution_count": 80,
   "metadata": {},
   "outputs": [],
   "source": [
    "from sklearn.preprocessing import MinMaxScaler, StandardScaler\n",
    "\n",
    "#preparpe the test set sequence based on the window size of 32 days and inverse the preprocessing transformations\n",
    "\n",
    "window = 32\n",
    "X_test=[]\n",
    "for i in range(window ,x_test.shape[0]):\n",
    "    X_test.append(x_test[i-window:i,:])\n",
    "X_test=np.array(X_test)\n",
    "\n",
    "# X_test=np.reshape(X_test,(X_test.shape[0],X_test.shape[1],1))\n",
    "predicted = model.predict(X_test)\n",
    "\n",
    "scaler = MinMaxScaler(feature_range=(0,1))\n",
    "scaler.fit(df_2d_vals[:, 0].reshape(-1, 1))\n",
    "x1 = scaler.transform(df_2d_vals[:, 0].reshape(-1, 1))\n",
    "predicted_inv = scaler.inverse_transform(predicted)\n",
    "x1_train_inv = scaler.inverse_transform(x1_train)\n",
    "x1_test_inv = scaler.inverse_transform(x1_test)\n",
    "std_scaler = StandardScaler()\n",
    "\n",
    "sent_vals_std = std_scaler.fit_transform(sent_vals.reshape(-1, 1))"
   ]
  },
  {
   "cell_type": "code",
   "execution_count": 81,
   "metadata": {},
   "outputs": [
    {
     "data": {
      "text/plain": [
       "<matplotlib.legend.Legend at 0x7f79ac70d8b0>"
      ]
     },
     "execution_count": 81,
     "metadata": {},
     "output_type": "execute_result"
    },
    {
     "data": {
      "image/png": "[encoded data removed]",
      "text/plain": [
       "<Figure size 432x288 with 1 Axes>"
      ]
     },
     "metadata": {
      "needs_background": "light"
     },
     "output_type": "display_data"
    }
   ],
   "source": [
    "plt.plot(np.arange(len(x1_train)),x1_train[:,0], c='b', label = 'train')\n",
    "plt.plot(np.arange(len(x1_train),len(x1_train)+len(x1_test)),x1_test[:,0], c='r', label = 'test')\n",
    "plt.plot(np.arange(len(x1_train),len(x1_train)+len(predicted)),predicted[:,0], c='y', label = 'predict')\n",
    "plt.legend()"
   ]
  },
  {
   "cell_type": "markdown",
   "metadata": {},
   "source": [
    "## Visualizaing predictions "
   ]
  },
  {
   "cell_type": "code",
   "execution_count": 112,
   "metadata": {},
   "outputs": [
    {
     "data": {
      "text/plain": [
       "Text(0.5, 1.0, 'Dow Jones Industrial Average')"
      ]
     },
     "execution_count": 112,
     "metadata": {},
     "output_type": "execute_result"
    },
    {
     "data": {
      "image/png": "[encoded data removed]",
      "text/plain": [
       "<Figure size 1080x504 with 3 Axes>"
      ]
     },
     "metadata": {
      "needs_background": "light"
     },
     "output_type": "display_data"
    }
   ],
   "source": [
    "#Plotting the prediction results on the test set from '2008-01-17' to '2008-02-28 on the window size of 32 \n",
    "\n",
    "mask_step = 4\n",
    "my_cmap = cm.get_cmap('jet')\n",
    "# my_cmap = cm.get_cmap('Spectral')\n",
    "sent_vals = df_mix[['std_sentiment']].values[:, 0]\n",
    "my_norm = Normalize(vmin=min(sent_vals), vmax=max(sent_vals))\n",
    "\n",
    "fig, (ax1, ax2) = plt.subplots(2, 1, figsize=(15, 7))\n",
    "ax1.bar(df_mix.index.values[::mask_step], sent_vals[::mask_step], color = my_cmap(my_norm(sent_vals[::mask_step])), label = 'New-sentiment')\n",
    "ax1.set_title('News Sentiment')\n",
    "ax1.axes.xaxis.set_visible(False)\n",
    "\n",
    "divider = make_axes_locatable(ax1)\n",
    "cax = divider.new_vertical(size=0.05, pad=.6)\n",
    "cax.xaxis.set_ticks_position(\"top\")\n",
    "fig.add_axes(cax)\n",
    "\n",
    "plt.colorbar(cm.ScalarMappable(norm=my_norm, cmap=my_cmap),\n",
    "             cax=cax,\n",
    "             orientation='horizontal', fraction=0.02,anchor=(1.0,0.0))\n",
    "\n",
    "\n",
    "ax2.plot(df_mix.index.values[:len(x1_train_inv)], x1_train_inv[:,0], c = 'b', label = 'DJI-train')\n",
    "ax2.plot(df_mix.index.values[len(x1_train):len(x1_train)+len(x1_test)], x1_test_inv[:,0], c = 'r', label = 'DJI-test')\n",
    "ax2.plot(df_mix.index.values[len(x1_train): len(x1_train)+len(predicted)], predicted_inv[:,0], c = 'y', label = 'DJI-prediction')\n",
    "ax2.legend()\n",
    "ax2.set_title('Dow Jones Industrial Average')\n",
    "\n"
   ]
  },
  {
   "cell_type": "code",
   "execution_count": null,
   "metadata": {},
   "outputs": [],
   "source": [
    "# Alternative data_preperation for the LSTM network "
   ]
  },
  {
   "cell_type": "code",
   "execution_count": null,
   "metadata": {},
   "outputs": [],
   "source": [
    "train_size = 14569 - 500\n",
    "train, test = df_mix[:train_size] , df_mix[train_size:]\n",
    "train_v , test_v = train.values, test.values  \n",
    "sc_train, sc_test = scaler.fit_transform(train_v), scaler.fit_transform(test_v)"
   ]
  },
  {
   "cell_type": "code",
   "execution_count": null,
   "metadata": {},
   "outputs": [],
   "source": [
    "# using tensorflow to generate windowed datase. \n",
    "def windowed_dataset(series, window_size, batch_size, shuffle_buffer, shift_v):\n",
    "  dataset = tf.data.Dataset.from_tensor_slices(series)\n",
    "  dataset = dataset.window(window_size + 1, shift=shift_v, drop_remainder=True)\n",
    "  dataset = dataset.flat_map(lambda window: window.batch(window_size + shift_v))\n",
    "  dataset = dataset.shuffle(shuffle_buffer).map(lambda window: (window[:-shift_v], window[-shift_v:]))\n",
    "  dataset = dataset.batch(batch_size).prefetch(1)\n",
    "  return dataset"
   ]
  },
  {
   "cell_type": "code",
   "execution_count": null,
   "metadata": {},
   "outputs": [],
   "source": [
    "window_size = 20\n",
    "batch_size = 32\n",
    "shuffle_buffer_size = 1000\n",
    "\n",
    "shift_v = 1\n",
    "\n",
    "train_dataset = windowed_dataset(sc_train, window_size, batch_size, shuffle_buffer_size, shift_v)"
   ]
  },
  {
   "cell_type": "code",
   "execution_count": null,
   "metadata": {},
   "outputs": [],
   "source": [
    "tf.keras.backend.clear_session()\n",
    "tf.random.set_seed(51)\n",
    "np.random.seed(51)\n",
    "\n",
    "tf.keras.backend.clear_session()\n",
    "\n",
    "model = tf.keras.models.Sequential([\n",
    "#   tf.keras.layers.Lambda(lambda x: tf.expand_dims(x, axis=-1),\n",
    "#                       input_shape=[None, None]),\n",
    "    tf.keras.layers.Bidirectional(tf.keras.layers.LSTM(32, return_sequences=True)),\n",
    "  tf.keras.layers.Bidirectional(tf.keras.layers.LSTM(32)),\n",
    "  tf.keras.layers.Dense(shift_v),\n",
    "  tf.keras.layers.Lambda(lambda x: x * 100.0)\n",
    "])\n",
    "\n",
    "lr_schedule = tf.keras.callbacks.LearningRateScheduler(\n",
    "    lambda epoch: 1e-8 * 10**(epoch / 20))\n",
    "optimizer = tf.keras.optimizers.SGD(lr=1e-8, momentum=0.9)\n",
    "model.compile(loss=tf.keras.losses.Huber(),\n",
    "              optimizer=optimizer,\n",
    "              metrics=[\"mae\"])\n",
    "history = model.fit(train_dataset, epochs=10, callbacks=[lr_schedule])"
   ]
  },
  {
   "cell_type": "code",
   "execution_count": null,
   "metadata": {},
   "outputs": [],
   "source": [
    "model.save(\"./saved_lstm_model.h5\")"
   ]
  },
  {
   "cell_type": "code",
   "execution_count": null,
   "metadata": {},
   "outputs": [],
   "source": [
    "series_len = 14569\n",
    "forecast = []\n",
    "results = []\n",
    "for time in range(series_len - window_size):\n",
    "  forecast.append(model.predict(series[time:time + window_size][np.newaxis]))\n",
    "\n",
    "forecast = forecast[split_time-window_size:]"
   ]
  },
  {
   "cell_type": "code",
   "execution_count": null,
   "metadata": {},
   "outputs": [],
   "source": [
    "model.predict(series[time:time + window_size][np.newaxis])"
   ]
  },
  {
   "cell_type": "code",
   "execution_count": null,
   "metadata": {},
   "outputs": [],
   "source": []
  }
 ],
 "metadata": {
  "kernelspec": {
   "display_name": "Python 3",
   "language": "python",
   "name": "python3"
  },
  "language_info": {
   "codemirror_mode": {
    "name": "ipython",
    "version": 3
   },
   "file_extension": ".py",
   "mimetype": "text/x-python",
   "name": "python",
   "nbconvert_exporter": "python",
   "pygments_lexer": "ipython3",
   "version": "3.8.5"
  }
 },
 "nbformat": 4,
 "nbformat_minor": 4
}
